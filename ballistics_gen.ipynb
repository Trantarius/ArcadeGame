{
 "cells": [
  {
   "cell_type": "code",
   "execution_count": 38,
   "metadata": {},
   "outputs": [],
   "source": [
    "from sympy import *\n",
    "from sympy.vector import *\n",
    "import regex\n",
    "\n",
    "pax, pay, pbx, pby, vax, vay, vbx, vby, aax, aay, abx, aby, pix, piy, vfx, vfy, jx, jy = symbols('p_a_x p_a_y p_b_x p_b_y v_a_x v_a_y v_b_x v_b_y a_a_x a_a_y a_b_x a_b_y p_i_x p_i_y v_f_x v_f_y j_x j_y',real=True)\n",
    "F, T, Ta, Tb = symbols('F T T_a T_b',real=True,positive=True)\n",
    "\n",
    "\n",
    "def gdcode(expr):\n",
    "    expr = collect_const(simplify(expr,1.0))\n",
    "    rhs = ccode(expr)\n",
    "    opc = count_ops(expr)\n",
    "    # turn squares into multiplication\n",
    "    rhs = regex.sub(r'pow\\(\\s*(\\w+)\\s*,\\s*2\\s*\\)', r'(\\1*\\1)', rhs)\n",
    "    rhs = regex.sub(r'pow\\(\\s*(\\w+)\\s*,\\s*-2\\s*\\)', r'(1.0/(\\1*\\1))', rhs)\n",
    "    # turn cubes into multiplication\n",
    "    rhs = regex.sub(r'pow\\(\\s*(\\w+)\\s*,\\s*3\\s*\\)', r'(\\1*\\1*\\1)', rhs)\n",
    "    rhs = regex.sub(r'pow\\(\\s*(\\w+)\\s*,\\s*-3\\s*\\)', r'(1.0/(\\1*\\1*\\1))', rhs)\n",
    "    # evaluate fractions\n",
    "    rhs = regex.sub(r'(\\d+\\.?\\d*)/(\\d+\\.?\\d*)', lambda match: str(float(match.group(1))/float(match.group(2))), rhs)\n",
    "    # convert integers to floats\n",
    "    rhs = regex.sub(r'(?<!\\.)\\b(\\d+)\\b(?!\\.)',r'\\1.0',rhs)\n",
    "    # rename vector parts\n",
    "    rhs = regex.sub(r'\\b(\\w+)_(x|y)',r'\\1.\\2',rhs)\n",
    "    # fix ternary if\n",
    "    rhs = regex.sub(r'\\(\\s*\\(\\s*(.*?)\\s*\\)\\s*\\?\\s*\\(\\s*\\n\\s*(.*?)\\s*\\n\\s*\\)\\s*\\n\\s*:\\s*\\(\\s*\\n\\s*(.*?)\\s*\\n\\s*\\)\\s*\\)', r'\\2 if \\1 else \\3', rhs)\n",
    "    return (rhs,opc)\n",
    "\n",
    "def make_code(qs):\n",
    "    cse_qs = cse(qs,symbols=numbered_symbols('_'))\n",
    "    code=''\n",
    "    opcount=0\n",
    "    for x in cse_qs[0]:\n",
    "        rhs, opc = gdcode(x[1])\n",
    "        opcount+=opc\n",
    "        code+='var '+str(x[0])+':float = '+rhs\n",
    "        code+='\\n'\n",
    "\n",
    "    for x in cse_qs[1]:\n",
    "        rhs, opc = gdcode(x)\n",
    "        opcount+=opc\n",
    "        code+=rhs\n",
    "        code+='\\n'\n",
    "    \n",
    "    code = '# opcount: '+str(opcount)+'\\n'+code\n",
    "\n",
    "    return code\n"
   ]
  },
  {
   "cell_type": "code",
   "execution_count": 39,
   "metadata": {},
   "outputs": [
    {
     "data": {
      "text/latex": [
       "$\\displaystyle T v_{a x} + p_{a x} = T v_{b x} + p_{b x}$"
      ],
      "text/plain": [
       "Eq(T*v_a_x + p_a_x, T*v_b_x + p_b_x)"
      ]
     },
     "metadata": {},
     "output_type": "display_data"
    },
    {
     "data": {
      "text/latex": [
       "$\\displaystyle T v_{a y} + p_{a y} = T v_{b y} + p_{b y}$"
      ],
      "text/plain": [
       "Eq(T*v_a_y + p_a_y, T*v_b_y + p_b_y)"
      ]
     },
     "metadata": {},
     "output_type": "display_data"
    },
    {
     "data": {
      "text/latex": [
       "$\\displaystyle F^{2} = v_{a x}^{2} + v_{a y}^{2}$"
      ],
      "text/plain": [
       "Eq(F**2, v_a_x**2 + v_a_y**2)"
      ]
     },
     "metadata": {},
     "output_type": "display_data"
    },
    {
     "data": {
      "text/latex": [
       "$\\displaystyle v_{a x} = \\frac{T v_{b x} - p_{a x} + p_{b x}}{T}$"
      ],
      "text/plain": [
       "Eq(v_a_x, (T*v_b_x - p_a_x + p_b_x)/T)"
      ]
     },
     "metadata": {},
     "output_type": "display_data"
    },
    {
     "data": {
      "text/latex": [
       "$\\displaystyle v_{a y} = \\frac{T v_{b y} - p_{a y} + p_{b y}}{T}$"
      ],
      "text/plain": [
       "Eq(v_a_y, (T*v_b_y - p_a_y + p_b_y)/T)"
      ]
     },
     "metadata": {},
     "output_type": "display_data"
    },
    {
     "data": {
      "text/latex": [
       "$\\displaystyle F^{2} = \\frac{\\left(T v_{b x} - p_{a x} + p_{b x}\\right)^{2}}{T^{2}} + \\frac{\\left(T v_{b y} - p_{a y} + p_{b y}\\right)^{2}}{T^{2}}$"
      ],
      "text/plain": [
       "Eq(F**2, (T*v_b_x - p_a_x + p_b_x)**2/T**2 + (T*v_b_y - p_a_y + p_b_y)**2/T**2)"
      ]
     },
     "metadata": {},
     "output_type": "display_data"
    },
    {
     "data": {
      "text/latex": [
       "$\\displaystyle 4 F^{2} T^{2} - 4 \\left(T v_{b x} - p_{a x} + p_{b x}\\right)^{2} - 4 \\left(T v_{b y} - p_{a y} + p_{b y}\\right)^{2}$"
      ],
      "text/plain": [
       "4*F**2*T**2 - 4*(T*v_b_x - p_a_x + p_b_x)**2 - 4*(T*v_b_y - p_a_y + p_b_y)**2"
      ]
     },
     "metadata": {},
     "output_type": "display_data"
    },
    {
     "data": {
      "text/latex": [
       "$\\displaystyle T^{2} \\cdot \\left(4 F^{2} - 4 v_{b x}^{2} - 4 v_{b y}^{2}\\right) + T \\left(8 p_{a x} v_{b x} + 8 p_{a y} v_{b y} - 8 p_{b x} v_{b x} - 8 p_{b y} v_{b y}\\right) - 4 p_{a x}^{2} + 8 p_{a x} p_{b x} - 4 p_{a y}^{2} + 8 p_{a y} p_{b y} - 4 p_{b x}^{2} - 4 p_{b y}^{2}$"
      ],
      "text/plain": [
       "T**2*(4*F**2 - 4*v_b_x**2 - 4*v_b_y**2) + T*(8*p_a_x*v_b_x + 8*p_a_y*v_b_y - 8*p_b_x*v_b_x - 8*p_b_y*v_b_y) - 4*p_a_x**2 + 8*p_a_x*p_b_x - 4*p_a_y**2 + 8*p_a_y*p_b_y - 4*p_b_x**2 - 4*p_b_y**2"
      ]
     },
     "metadata": {},
     "output_type": "display_data"
    },
    {
     "data": {
      "text/latex": [
       "$\\displaystyle c_{c} = 4 F^{2} - 4 v_{b x}^{2} - 4 v_{b y}^{2}$"
      ],
      "text/plain": [
       "Eq(c_c, 4*F**2 - 4*v_b_x**2 - 4*v_b_y**2)"
      ]
     },
     "metadata": {},
     "output_type": "display_data"
    },
    {
     "data": {
      "text/latex": [
       "$\\displaystyle c_{d} = 8 p_{a x} v_{b x} + 8 p_{a y} v_{b y} - 8 p_{b x} v_{b x} - 8 p_{b y} v_{b y}$"
      ],
      "text/plain": [
       "Eq(c_d, 8*p_a_x*v_b_x + 8*p_a_y*v_b_y - 8*p_b_x*v_b_x - 8*p_b_y*v_b_y)"
      ]
     },
     "metadata": {},
     "output_type": "display_data"
    },
    {
     "data": {
      "text/latex": [
       "$\\displaystyle c_{e} = - 4 p_{a x}^{2} + 8 p_{a x} p_{b x} - 4 p_{a y}^{2} + 8 p_{a y} p_{b y} - 4 p_{b x}^{2} - 4 p_{b y}^{2}$"
      ],
      "text/plain": [
       "Eq(c_e, -4*p_a_x**2 + 8*p_a_x*p_b_x - 4*p_a_y**2 + 8*p_a_y*p_b_y - 4*p_b_x**2 - 4*p_b_y**2)"
      ]
     },
     "metadata": {},
     "output_type": "display_data"
    },
    {
     "data": {
      "text/latex": [
       "$\\displaystyle T^{2} c_{c} + T c_{d} + c_{e}$"
      ],
      "text/plain": [
       "T**2*c_c + T*c_d + c_e"
      ]
     },
     "metadata": {},
     "output_type": "display_data"
    },
    {
     "data": {
      "text/plain": [
       "[(-c_d - sqrt(-4*c_c*c_e + c_d**2))/(2*c_c),\n",
       " (-c_d + sqrt(-4*c_c*c_e + c_d**2))/(2*c_c)]"
      ]
     },
     "metadata": {},
     "output_type": "display_data"
    },
    {
     "name": "stdout",
     "output_type": "stream",
     "text": [
      "# opcount: 44\n",
      "var _0:float = 8.0*v_b.x\n",
      "var _1:float = _0*p_a.x\n",
      "var _2:float = 8.0*v_b.y\n",
      "var _3:float = _2*p_a.y\n",
      "var _4:float = _0*p_b.x\n",
      "var _5:float = _2*p_b.y\n",
      "var _6:float = _1 + _3 - (_4 + _5)\n",
      "var _7:float = 4.0*((F*F) - (v_b.x*v_b.x) - (v_b.y*v_b.y))\n",
      "var _8:float = sqrt((_6*_6) + 16.0*_7*((p_a.x*p_a.x) - 2.0*p_a.x*p_b.x + (p_a.y*p_a.y) - 2.0*p_a.y*p_b.y + (p_b.x*p_b.x) + (p_b.y*p_b.y)))\n",
      "var _9:float = (0.5)/_7\n",
      "-_9*(_6 + _8)\n",
      "_9*(-_1 - _3 + _4 + _5 + _8)\n",
      "\n"
     ]
    }
   ],
   "source": [
    "# linear-linear intercept\n",
    "q_pix = Eq(vax*T + pax, vbx*T + pbx)\n",
    "q_piy = Eq(vay*T + pay, vby*T + pby)\n",
    "display(q_pix, q_piy)\n",
    "\n",
    "q_f = Eq(F**2, vax**2 + vay**2)\n",
    "display(q_f)\n",
    "\n",
    "q_vax = Eq(vax,solve(q_pix, vax)[0])\n",
    "q_vay = Eq(vay,solve(q_piy, vay)[0])\n",
    "display(q_vax, q_vay)\n",
    "\n",
    "q_f2 = q_f.subs({vax:q_vax.rhs, vay:q_vay.rhs})\n",
    "display(q_f2)\n",
    "q_f2 = Eq(q_f2.lhs * 4*T**2, q_f2.rhs * 4*T**2)\n",
    "q_f2 = simplify(q_f2)\n",
    "q_f2 = q_f2.lhs - q_f2.rhs\n",
    "display(q_f2)\n",
    "\n",
    "q_f2 = collect(expand(q_f2),T)\n",
    "display(q_f2)\n",
    "q_f2_terms = collect(expand(q_f2),T, evaluate=False)\n",
    "ca, cb, cc, cd, ce = symbols('c_a c_b c_c c_d c_e', real=True)\n",
    "#q_ca = Eq(ca, q_f2_terms[T**4])\n",
    "#q_cb = Eq(cb, q_f2_terms[T**3])\n",
    "q_cc = Eq(cc, q_f2_terms[T**2])\n",
    "q_cd = Eq(cd, q_f2_terms[T**1])\n",
    "q_ce = Eq(ce, q_f2_terms[1])\n",
    "display(q_cc, q_cd, q_ce)\n",
    "q_f2 = q_f2.subs({q_cc.rhs:q_cc.lhs, q_cd.rhs:q_cd.lhs, q_ce.rhs:q_ce.lhs})\n",
    "display(q_f2)\n",
    "\n",
    "q_t = solve(q_f2, T)\n",
    "display(q_t)\n",
    "\n",
    "sols = [q.subs({q_cc.lhs:q_cc.rhs, q_cd.lhs:q_cd.rhs, q_ce.lhs:q_ce.rhs}) for q in q_t]\n",
    "print(make_code(sols))"
   ]
  },
  {
   "cell_type": "code",
   "execution_count": 40,
   "metadata": {},
   "outputs": [
    {
     "data": {
      "text/latex": [
       "$\\displaystyle T v_{a x} + p_{a x} = \\frac{T^{2} a_{b x}}{2} + T v_{b x} + p_{b x}$"
      ],
      "text/plain": [
       "Eq(T*v_a_x + p_a_x, T**2*a_b_x/2 + T*v_b_x + p_b_x)"
      ]
     },
     "metadata": {},
     "output_type": "display_data"
    },
    {
     "data": {
      "text/latex": [
       "$\\displaystyle T v_{a y} + p_{a y} = \\frac{T^{2} a_{b y}}{2} + T v_{b y} + p_{b y}$"
      ],
      "text/plain": [
       "Eq(T*v_a_y + p_a_y, T**2*a_b_y/2 + T*v_b_y + p_b_y)"
      ]
     },
     "metadata": {},
     "output_type": "display_data"
    },
    {
     "data": {
      "text/latex": [
       "$\\displaystyle F^{2} = v_{a x}^{2} + v_{a y}^{2}$"
      ],
      "text/plain": [
       "Eq(F**2, v_a_x**2 + v_a_y**2)"
      ]
     },
     "metadata": {},
     "output_type": "display_data"
    },
    {
     "data": {
      "text/latex": [
       "$\\displaystyle v_{a x} = \\frac{T a_{b x}}{2} + v_{b x} - \\frac{p_{a x}}{T} + \\frac{p_{b x}}{T}$"
      ],
      "text/plain": [
       "Eq(v_a_x, T*a_b_x/2 + v_b_x - p_a_x/T + p_b_x/T)"
      ]
     },
     "metadata": {},
     "output_type": "display_data"
    },
    {
     "data": {
      "text/latex": [
       "$\\displaystyle v_{a y} = \\frac{T a_{b y}}{2} + v_{b y} - \\frac{p_{a y}}{T} + \\frac{p_{b y}}{T}$"
      ],
      "text/plain": [
       "Eq(v_a_y, T*a_b_y/2 + v_b_y - p_a_y/T + p_b_y/T)"
      ]
     },
     "metadata": {},
     "output_type": "display_data"
    },
    {
     "data": {
      "text/latex": [
       "$\\displaystyle F^{2} = \\left(\\frac{T a_{b x}}{2} + v_{b x} - \\frac{p_{a x}}{T} + \\frac{p_{b x}}{T}\\right)^{2} + \\left(\\frac{T a_{b y}}{2} + v_{b y} - \\frac{p_{a y}}{T} + \\frac{p_{b y}}{T}\\right)^{2}$"
      ],
      "text/plain": [
       "Eq(F**2, (T*a_b_x/2 + v_b_x - p_a_x/T + p_b_x/T)**2 + (T*a_b_y/2 + v_b_y - p_a_y/T + p_b_y/T)**2)"
      ]
     },
     "metadata": {},
     "output_type": "display_data"
    },
    {
     "data": {
      "text/latex": [
       "$\\displaystyle 4 F^{2} T^{2} - \\left(T \\left(T a_{b x} + 2 v_{b x}\\right) - 2 p_{a x} + 2 p_{b x}\\right)^{2} - \\left(T \\left(T a_{b y} + 2 v_{b y}\\right) - 2 p_{a y} + 2 p_{b y}\\right)^{2}$"
      ],
      "text/plain": [
       "4*F**2*T**2 - (T*(T*a_b_x + 2*v_b_x) - 2*p_a_x + 2*p_b_x)**2 - (T*(T*a_b_y + 2*v_b_y) - 2*p_a_y + 2*p_b_y)**2"
      ]
     },
     "metadata": {},
     "output_type": "display_data"
    },
    {
     "data": {
      "text/latex": [
       "$\\displaystyle T^{4} \\left(- a_{b x}^{2} - a_{b y}^{2}\\right) + T^{3} \\left(- 4 a_{b x} v_{b x} - 4 a_{b y} v_{b y}\\right) + T^{2} \\cdot \\left(4 F^{2} + 4 a_{b x} p_{a x} - 4 a_{b x} p_{b x} + 4 a_{b y} p_{a y} - 4 a_{b y} p_{b y} - 4 v_{b x}^{2} - 4 v_{b y}^{2}\\right) + T \\left(8 p_{a x} v_{b x} + 8 p_{a y} v_{b y} - 8 p_{b x} v_{b x} - 8 p_{b y} v_{b y}\\right) - 4 p_{a x}^{2} + 8 p_{a x} p_{b x} - 4 p_{a y}^{2} + 8 p_{a y} p_{b y} - 4 p_{b x}^{2} - 4 p_{b y}^{2}$"
      ],
      "text/plain": [
       "T**4*(-a_b_x**2 - a_b_y**2) + T**3*(-4*a_b_x*v_b_x - 4*a_b_y*v_b_y) + T**2*(4*F**2 + 4*a_b_x*p_a_x - 4*a_b_x*p_b_x + 4*a_b_y*p_a_y - 4*a_b_y*p_b_y - 4*v_b_x**2 - 4*v_b_y**2) + T*(8*p_a_x*v_b_x + 8*p_a_y*v_b_y - 8*p_b_x*v_b_x - 8*p_b_y*v_b_y) - 4*p_a_x**2 + 8*p_a_x*p_b_x - 4*p_a_y**2 + 8*p_a_y*p_b_y - 4*p_b_x**2 - 4*p_b_y**2"
      ]
     },
     "metadata": {},
     "output_type": "display_data"
    },
    {
     "data": {
      "text/latex": [
       "$\\displaystyle c_{a} = - a_{b x}^{2} - a_{b y}^{2}$"
      ],
      "text/plain": [
       "Eq(c_a, -a_b_x**2 - a_b_y**2)"
      ]
     },
     "metadata": {},
     "output_type": "display_data"
    },
    {
     "data": {
      "text/latex": [
       "$\\displaystyle c_{b} = - 4 a_{b x} v_{b x} - 4 a_{b y} v_{b y}$"
      ],
      "text/plain": [
       "Eq(c_b, -4*a_b_x*v_b_x - 4*a_b_y*v_b_y)"
      ]
     },
     "metadata": {},
     "output_type": "display_data"
    },
    {
     "data": {
      "text/latex": [
       "$\\displaystyle c_{c} = 4 F^{2} + 4 a_{b x} p_{a x} - 4 a_{b x} p_{b x} + 4 a_{b y} p_{a y} - 4 a_{b y} p_{b y} - 4 v_{b x}^{2} - 4 v_{b y}^{2}$"
      ],
      "text/plain": [
       "Eq(c_c, 4*F**2 + 4*a_b_x*p_a_x - 4*a_b_x*p_b_x + 4*a_b_y*p_a_y - 4*a_b_y*p_b_y - 4*v_b_x**2 - 4*v_b_y**2)"
      ]
     },
     "metadata": {},
     "output_type": "display_data"
    },
    {
     "data": {
      "text/latex": [
       "$\\displaystyle c_{d} = 8 p_{a x} v_{b x} + 8 p_{a y} v_{b y} - 8 p_{b x} v_{b x} - 8 p_{b y} v_{b y}$"
      ],
      "text/plain": [
       "Eq(c_d, 8*p_a_x*v_b_x + 8*p_a_y*v_b_y - 8*p_b_x*v_b_x - 8*p_b_y*v_b_y)"
      ]
     },
     "metadata": {},
     "output_type": "display_data"
    },
    {
     "data": {
      "text/latex": [
       "$\\displaystyle c_{e} = - 4 p_{a x}^{2} + 8 p_{a x} p_{b x} - 4 p_{a y}^{2} + 8 p_{a y} p_{b y} - 4 p_{b x}^{2} - 4 p_{b y}^{2}$"
      ],
      "text/plain": [
       "Eq(c_e, -4*p_a_x**2 + 8*p_a_x*p_b_x - 4*p_a_y**2 + 8*p_a_y*p_b_y - 4*p_b_x**2 - 4*p_b_y**2)"
      ]
     },
     "metadata": {},
     "output_type": "display_data"
    },
    {
     "data": {
      "text/latex": [
       "$\\displaystyle T^{4} c_{a} + T^{3} c_{b} + T^{2} c_{c} + T c_{d} + c_{e}$"
      ],
      "text/plain": [
       "T**4*c_a + T**3*c_b + T**2*c_c + T*c_d + c_e"
      ]
     },
     "metadata": {},
     "output_type": "display_data"
    },
    {
     "data": {
      "text/plain": [
       "[Piecewise((-sqrt(-2*(-(c_c/c_a - 3*c_b**2/(8*c_a**2))**3/108 + (c_c/c_a - 3*c_b**2/(8*c_a**2))*(c_e/c_a - c_b*c_d/(4*c_a**2) + c_b**2*c_c/(16*c_a**3) - 3*c_b**4/(256*c_a**4))/3 - (c_d/c_a - c_b*c_c/(2*c_a**2) + c_b**3/(8*c_a**3))**2/8)**(1/3) - 2*c_c/(3*c_a) + c_b**2/(4*c_a**2))/2 - sqrt((2*c_d/c_a - c_b*c_c/c_a**2 + c_b**3/(4*c_a**3))/sqrt(-2*(-(c_c/c_a - 3*c_b**2/(8*c_a**2))**3/108 + (c_c/c_a - 3*c_b**2/(8*c_a**2))*(c_e/c_a - c_b*c_d/(4*c_a**2) + c_b**2*c_c/(16*c_a**3) - 3*c_b**4/(256*c_a**4))/3 - (c_d/c_a - c_b*c_c/(2*c_a**2) + c_b**3/(8*c_a**3))**2/8)**(1/3) - 2*c_c/(3*c_a) + c_b**2/(4*c_a**2)) + 2*(-(c_c/c_a - 3*c_b**2/(8*c_a**2))**3/108 + (c_c/c_a - 3*c_b**2/(8*c_a**2))*(c_e/c_a - c_b*c_d/(4*c_a**2) + c_b**2*c_c/(16*c_a**3) - 3*c_b**4/(256*c_a**4))/3 - (c_d/c_a - c_b*c_c/(2*c_a**2) + c_b**3/(8*c_a**3))**2/8)**(1/3) - 4*c_c/(3*c_a) + c_b**2/(2*c_a**2))/2 - c_b/(4*c_a), Eq(c_e/c_a - c_b*c_d/(4*c_a**2) + c_c**2/(12*c_a**2), 0)), (-sqrt(-2*(-c_e/c_a + c_b*c_d/(4*c_a**2) - c_c**2/(12*c_a**2))/(3*((c_c/c_a - 3*c_b**2/(8*c_a**2))**3/216 - (c_c/c_a - 3*c_b**2/(8*c_a**2))*(c_e/c_a - c_b*c_d/(4*c_a**2) + c_b**2*c_c/(16*c_a**3) - 3*c_b**4/(256*c_a**4))/6 + sqrt((-c_e/c_a + c_b*c_d/(4*c_a**2) - c_c**2/(12*c_a**2))**3/27 + (-(c_c/c_a - 3*c_b**2/(8*c_a**2))**3/108 + (c_c/c_a - 3*c_b**2/(8*c_a**2))*(c_e/c_a - c_b*c_d/(4*c_a**2) + c_b**2*c_c/(16*c_a**3) - 3*c_b**4/(256*c_a**4))/3 - (c_d/c_a - c_b*c_c/(2*c_a**2) + c_b**3/(8*c_a**3))**2/8)**2/4) + (c_d/c_a - c_b*c_c/(2*c_a**2) + c_b**3/(8*c_a**3))**2/16)**(1/3)) + 2*((c_c/c_a - 3*c_b**2/(8*c_a**2))**3/216 - (c_c/c_a - 3*c_b**2/(8*c_a**2))*(c_e/c_a - c_b*c_d/(4*c_a**2) + c_b**2*c_c/(16*c_a**3) - 3*c_b**4/(256*c_a**4))/6 + sqrt((-c_e/c_a + c_b*c_d/(4*c_a**2) - c_c**2/(12*c_a**2))**3/27 + (-(c_c/c_a - 3*c_b**2/(8*c_a**2))**3/108 + (c_c/c_a - 3*c_b**2/(8*c_a**2))*(c_e/c_a - c_b*c_d/(4*c_a**2) + c_b**2*c_c/(16*c_a**3) - 3*c_b**4/(256*c_a**4))/3 - (c_d/c_a - c_b*c_c/(2*c_a**2) + c_b**3/(8*c_a**3))**2/8)**2/4) + (c_d/c_a - c_b*c_c/(2*c_a**2) + c_b**3/(8*c_a**3))**2/16)**(1/3) - 2*c_c/(3*c_a) + c_b**2/(4*c_a**2))/2 - sqrt((2*c_d/c_a - c_b*c_c/c_a**2 + c_b**3/(4*c_a**3))/sqrt(-2*(-c_e/c_a + c_b*c_d/(4*c_a**2) - c_c**2/(12*c_a**2))/(3*((c_c/c_a - 3*c_b**2/(8*c_a**2))**3/216 - (c_c/c_a - 3*c_b**2/(8*c_a**2))*(c_e/c_a - c_b*c_d/(4*c_a**2) + c_b**2*c_c/(16*c_a**3) - 3*c_b**4/(256*c_a**4))/6 + sqrt((-c_e/c_a + c_b*c_d/(4*c_a**2) - c_c**2/(12*c_a**2))**3/27 + (-(c_c/c_a - 3*c_b**2/(8*c_a**2))**3/108 + (c_c/c_a - 3*c_b**2/(8*c_a**2))*(c_e/c_a - c_b*c_d/(4*c_a**2) + c_b**2*c_c/(16*c_a**3) - 3*c_b**4/(256*c_a**4))/3 - (c_d/c_a - c_b*c_c/(2*c_a**2) + c_b**3/(8*c_a**3))**2/8)**2/4) + (c_d/c_a - c_b*c_c/(2*c_a**2) + c_b**3/(8*c_a**3))**2/16)**(1/3)) + 2*((c_c/c_a - 3*c_b**2/(8*c_a**2))**3/216 - (c_c/c_a - 3*c_b**2/(8*c_a**2))*(c_e/c_a - c_b*c_d/(4*c_a**2) + c_b**2*c_c/(16*c_a**3) - 3*c_b**4/(256*c_a**4))/6 + sqrt((-c_e/c_a + c_b*c_d/(4*c_a**2) - c_c**2/(12*c_a**2))**3/27 + (-(c_c/c_a - 3*c_b**2/(8*c_a**2))**3/108 + (c_c/c_a - 3*c_b**2/(8*c_a**2))*(c_e/c_a - c_b*c_d/(4*c_a**2) + c_b**2*c_c/(16*c_a**3) - 3*c_b**4/(256*c_a**4))/3 - (c_d/c_a - c_b*c_c/(2*c_a**2) + c_b**3/(8*c_a**3))**2/8)**2/4) + (c_d/c_a - c_b*c_c/(2*c_a**2) + c_b**3/(8*c_a**3))**2/16)**(1/3) - 2*c_c/(3*c_a) + c_b**2/(4*c_a**2)) + 2*(-c_e/c_a + c_b*c_d/(4*c_a**2) - c_c**2/(12*c_a**2))/(3*((c_c/c_a - 3*c_b**2/(8*c_a**2))**3/216 - (c_c/c_a - 3*c_b**2/(8*c_a**2))*(c_e/c_a - c_b*c_d/(4*c_a**2) + c_b**2*c_c/(16*c_a**3) - 3*c_b**4/(256*c_a**4))/6 + sqrt((-c_e/c_a + c_b*c_d/(4*c_a**2) - c_c**2/(12*c_a**2))**3/27 + (-(c_c/c_a - 3*c_b**2/(8*c_a**2))**3/108 + (c_c/c_a - 3*c_b**2/(8*c_a**2))*(c_e/c_a - c_b*c_d/(4*c_a**2) + c_b**2*c_c/(16*c_a**3) - 3*c_b**4/(256*c_a**4))/3 - (c_d/c_a - c_b*c_c/(2*c_a**2) + c_b**3/(8*c_a**3))**2/8)**2/4) + (c_d/c_a - c_b*c_c/(2*c_a**2) + c_b**3/(8*c_a**3))**2/16)**(1/3)) - 2*((c_c/c_a - 3*c_b**2/(8*c_a**2))**3/216 - (c_c/c_a - 3*c_b**2/(8*c_a**2))*(c_e/c_a - c_b*c_d/(4*c_a**2) + c_b**2*c_c/(16*c_a**3) - 3*c_b**4/(256*c_a**4))/6 + sqrt((-c_e/c_a + c_b*c_d/(4*c_a**2) - c_c**2/(12*c_a**2))**3/27 + (-(c_c/c_a - 3*c_b**2/(8*c_a**2))**3/108 + (c_c/c_a - 3*c_b**2/(8*c_a**2))*(c_e/c_a - c_b*c_d/(4*c_a**2) + c_b**2*c_c/(16*c_a**3) - 3*c_b**4/(256*c_a**4))/3 - (c_d/c_a - c_b*c_c/(2*c_a**2) + c_b**3/(8*c_a**3))**2/8)**2/4) + (c_d/c_a - c_b*c_c/(2*c_a**2) + c_b**3/(8*c_a**3))**2/16)**(1/3) - 4*c_c/(3*c_a) + c_b**2/(2*c_a**2))/2 - c_b/(4*c_a), True)),\n",
       " Piecewise((-sqrt(-2*(-(c_c/c_a - 3*c_b**2/(8*c_a**2))**3/108 + (c_c/c_a - 3*c_b**2/(8*c_a**2))*(c_e/c_a - c_b*c_d/(4*c_a**2) + c_b**2*c_c/(16*c_a**3) - 3*c_b**4/(256*c_a**4))/3 - (c_d/c_a - c_b*c_c/(2*c_a**2) + c_b**3/(8*c_a**3))**2/8)**(1/3) - 2*c_c/(3*c_a) + c_b**2/(4*c_a**2))/2 + sqrt((2*c_d/c_a - c_b*c_c/c_a**2 + c_b**3/(4*c_a**3))/sqrt(-2*(-(c_c/c_a - 3*c_b**2/(8*c_a**2))**3/108 + (c_c/c_a - 3*c_b**2/(8*c_a**2))*(c_e/c_a - c_b*c_d/(4*c_a**2) + c_b**2*c_c/(16*c_a**3) - 3*c_b**4/(256*c_a**4))/3 - (c_d/c_a - c_b*c_c/(2*c_a**2) + c_b**3/(8*c_a**3))**2/8)**(1/3) - 2*c_c/(3*c_a) + c_b**2/(4*c_a**2)) + 2*(-(c_c/c_a - 3*c_b**2/(8*c_a**2))**3/108 + (c_c/c_a - 3*c_b**2/(8*c_a**2))*(c_e/c_a - c_b*c_d/(4*c_a**2) + c_b**2*c_c/(16*c_a**3) - 3*c_b**4/(256*c_a**4))/3 - (c_d/c_a - c_b*c_c/(2*c_a**2) + c_b**3/(8*c_a**3))**2/8)**(1/3) - 4*c_c/(3*c_a) + c_b**2/(2*c_a**2))/2 - c_b/(4*c_a), Eq(c_e/c_a - c_b*c_d/(4*c_a**2) + c_c**2/(12*c_a**2), 0)), (-sqrt(-2*(-c_e/c_a + c_b*c_d/(4*c_a**2) - c_c**2/(12*c_a**2))/(3*((c_c/c_a - 3*c_b**2/(8*c_a**2))**3/216 - (c_c/c_a - 3*c_b**2/(8*c_a**2))*(c_e/c_a - c_b*c_d/(4*c_a**2) + c_b**2*c_c/(16*c_a**3) - 3*c_b**4/(256*c_a**4))/6 + sqrt((-c_e/c_a + c_b*c_d/(4*c_a**2) - c_c**2/(12*c_a**2))**3/27 + (-(c_c/c_a - 3*c_b**2/(8*c_a**2))**3/108 + (c_c/c_a - 3*c_b**2/(8*c_a**2))*(c_e/c_a - c_b*c_d/(4*c_a**2) + c_b**2*c_c/(16*c_a**3) - 3*c_b**4/(256*c_a**4))/3 - (c_d/c_a - c_b*c_c/(2*c_a**2) + c_b**3/(8*c_a**3))**2/8)**2/4) + (c_d/c_a - c_b*c_c/(2*c_a**2) + c_b**3/(8*c_a**3))**2/16)**(1/3)) + 2*((c_c/c_a - 3*c_b**2/(8*c_a**2))**3/216 - (c_c/c_a - 3*c_b**2/(8*c_a**2))*(c_e/c_a - c_b*c_d/(4*c_a**2) + c_b**2*c_c/(16*c_a**3) - 3*c_b**4/(256*c_a**4))/6 + sqrt((-c_e/c_a + c_b*c_d/(4*c_a**2) - c_c**2/(12*c_a**2))**3/27 + (-(c_c/c_a - 3*c_b**2/(8*c_a**2))**3/108 + (c_c/c_a - 3*c_b**2/(8*c_a**2))*(c_e/c_a - c_b*c_d/(4*c_a**2) + c_b**2*c_c/(16*c_a**3) - 3*c_b**4/(256*c_a**4))/3 - (c_d/c_a - c_b*c_c/(2*c_a**2) + c_b**3/(8*c_a**3))**2/8)**2/4) + (c_d/c_a - c_b*c_c/(2*c_a**2) + c_b**3/(8*c_a**3))**2/16)**(1/3) - 2*c_c/(3*c_a) + c_b**2/(4*c_a**2))/2 + sqrt((2*c_d/c_a - c_b*c_c/c_a**2 + c_b**3/(4*c_a**3))/sqrt(-2*(-c_e/c_a + c_b*c_d/(4*c_a**2) - c_c**2/(12*c_a**2))/(3*((c_c/c_a - 3*c_b**2/(8*c_a**2))**3/216 - (c_c/c_a - 3*c_b**2/(8*c_a**2))*(c_e/c_a - c_b*c_d/(4*c_a**2) + c_b**2*c_c/(16*c_a**3) - 3*c_b**4/(256*c_a**4))/6 + sqrt((-c_e/c_a + c_b*c_d/(4*c_a**2) - c_c**2/(12*c_a**2))**3/27 + (-(c_c/c_a - 3*c_b**2/(8*c_a**2))**3/108 + (c_c/c_a - 3*c_b**2/(8*c_a**2))*(c_e/c_a - c_b*c_d/(4*c_a**2) + c_b**2*c_c/(16*c_a**3) - 3*c_b**4/(256*c_a**4))/3 - (c_d/c_a - c_b*c_c/(2*c_a**2) + c_b**3/(8*c_a**3))**2/8)**2/4) + (c_d/c_a - c_b*c_c/(2*c_a**2) + c_b**3/(8*c_a**3))**2/16)**(1/3)) + 2*((c_c/c_a - 3*c_b**2/(8*c_a**2))**3/216 - (c_c/c_a - 3*c_b**2/(8*c_a**2))*(c_e/c_a - c_b*c_d/(4*c_a**2) + c_b**2*c_c/(16*c_a**3) - 3*c_b**4/(256*c_a**4))/6 + sqrt((-c_e/c_a + c_b*c_d/(4*c_a**2) - c_c**2/(12*c_a**2))**3/27 + (-(c_c/c_a - 3*c_b**2/(8*c_a**2))**3/108 + (c_c/c_a - 3*c_b**2/(8*c_a**2))*(c_e/c_a - c_b*c_d/(4*c_a**2) + c_b**2*c_c/(16*c_a**3) - 3*c_b**4/(256*c_a**4))/3 - (c_d/c_a - c_b*c_c/(2*c_a**2) + c_b**3/(8*c_a**3))**2/8)**2/4) + (c_d/c_a - c_b*c_c/(2*c_a**2) + c_b**3/(8*c_a**3))**2/16)**(1/3) - 2*c_c/(3*c_a) + c_b**2/(4*c_a**2)) + 2*(-c_e/c_a + c_b*c_d/(4*c_a**2) - c_c**2/(12*c_a**2))/(3*((c_c/c_a - 3*c_b**2/(8*c_a**2))**3/216 - (c_c/c_a - 3*c_b**2/(8*c_a**2))*(c_e/c_a - c_b*c_d/(4*c_a**2) + c_b**2*c_c/(16*c_a**3) - 3*c_b**4/(256*c_a**4))/6 + sqrt((-c_e/c_a + c_b*c_d/(4*c_a**2) - c_c**2/(12*c_a**2))**3/27 + (-(c_c/c_a - 3*c_b**2/(8*c_a**2))**3/108 + (c_c/c_a - 3*c_b**2/(8*c_a**2))*(c_e/c_a - c_b*c_d/(4*c_a**2) + c_b**2*c_c/(16*c_a**3) - 3*c_b**4/(256*c_a**4))/3 - (c_d/c_a - c_b*c_c/(2*c_a**2) + c_b**3/(8*c_a**3))**2/8)**2/4) + (c_d/c_a - c_b*c_c/(2*c_a**2) + c_b**3/(8*c_a**3))**2/16)**(1/3)) - 2*((c_c/c_a - 3*c_b**2/(8*c_a**2))**3/216 - (c_c/c_a - 3*c_b**2/(8*c_a**2))*(c_e/c_a - c_b*c_d/(4*c_a**2) + c_b**2*c_c/(16*c_a**3) - 3*c_b**4/(256*c_a**4))/6 + sqrt((-c_e/c_a + c_b*c_d/(4*c_a**2) - c_c**2/(12*c_a**2))**3/27 + (-(c_c/c_a - 3*c_b**2/(8*c_a**2))**3/108 + (c_c/c_a - 3*c_b**2/(8*c_a**2))*(c_e/c_a - c_b*c_d/(4*c_a**2) + c_b**2*c_c/(16*c_a**3) - 3*c_b**4/(256*c_a**4))/3 - (c_d/c_a - c_b*c_c/(2*c_a**2) + c_b**3/(8*c_a**3))**2/8)**2/4) + (c_d/c_a - c_b*c_c/(2*c_a**2) + c_b**3/(8*c_a**3))**2/16)**(1/3) - 4*c_c/(3*c_a) + c_b**2/(2*c_a**2))/2 - c_b/(4*c_a), True)),\n",
       " Piecewise((sqrt(-2*(-(c_c/c_a - 3*c_b**2/(8*c_a**2))**3/108 + (c_c/c_a - 3*c_b**2/(8*c_a**2))*(c_e/c_a - c_b*c_d/(4*c_a**2) + c_b**2*c_c/(16*c_a**3) - 3*c_b**4/(256*c_a**4))/3 - (c_d/c_a - c_b*c_c/(2*c_a**2) + c_b**3/(8*c_a**3))**2/8)**(1/3) - 2*c_c/(3*c_a) + c_b**2/(4*c_a**2))/2 - sqrt(-(2*c_d/c_a - c_b*c_c/c_a**2 + c_b**3/(4*c_a**3))/sqrt(-2*(-(c_c/c_a - 3*c_b**2/(8*c_a**2))**3/108 + (c_c/c_a - 3*c_b**2/(8*c_a**2))*(c_e/c_a - c_b*c_d/(4*c_a**2) + c_b**2*c_c/(16*c_a**3) - 3*c_b**4/(256*c_a**4))/3 - (c_d/c_a - c_b*c_c/(2*c_a**2) + c_b**3/(8*c_a**3))**2/8)**(1/3) - 2*c_c/(3*c_a) + c_b**2/(4*c_a**2)) + 2*(-(c_c/c_a - 3*c_b**2/(8*c_a**2))**3/108 + (c_c/c_a - 3*c_b**2/(8*c_a**2))*(c_e/c_a - c_b*c_d/(4*c_a**2) + c_b**2*c_c/(16*c_a**3) - 3*c_b**4/(256*c_a**4))/3 - (c_d/c_a - c_b*c_c/(2*c_a**2) + c_b**3/(8*c_a**3))**2/8)**(1/3) - 4*c_c/(3*c_a) + c_b**2/(2*c_a**2))/2 - c_b/(4*c_a), Eq(c_e/c_a - c_b*c_d/(4*c_a**2) + c_c**2/(12*c_a**2), 0)), (sqrt(-2*(-c_e/c_a + c_b*c_d/(4*c_a**2) - c_c**2/(12*c_a**2))/(3*((c_c/c_a - 3*c_b**2/(8*c_a**2))**3/216 - (c_c/c_a - 3*c_b**2/(8*c_a**2))*(c_e/c_a - c_b*c_d/(4*c_a**2) + c_b**2*c_c/(16*c_a**3) - 3*c_b**4/(256*c_a**4))/6 + sqrt((-c_e/c_a + c_b*c_d/(4*c_a**2) - c_c**2/(12*c_a**2))**3/27 + (-(c_c/c_a - 3*c_b**2/(8*c_a**2))**3/108 + (c_c/c_a - 3*c_b**2/(8*c_a**2))*(c_e/c_a - c_b*c_d/(4*c_a**2) + c_b**2*c_c/(16*c_a**3) - 3*c_b**4/(256*c_a**4))/3 - (c_d/c_a - c_b*c_c/(2*c_a**2) + c_b**3/(8*c_a**3))**2/8)**2/4) + (c_d/c_a - c_b*c_c/(2*c_a**2) + c_b**3/(8*c_a**3))**2/16)**(1/3)) + 2*((c_c/c_a - 3*c_b**2/(8*c_a**2))**3/216 - (c_c/c_a - 3*c_b**2/(8*c_a**2))*(c_e/c_a - c_b*c_d/(4*c_a**2) + c_b**2*c_c/(16*c_a**3) - 3*c_b**4/(256*c_a**4))/6 + sqrt((-c_e/c_a + c_b*c_d/(4*c_a**2) - c_c**2/(12*c_a**2))**3/27 + (-(c_c/c_a - 3*c_b**2/(8*c_a**2))**3/108 + (c_c/c_a - 3*c_b**2/(8*c_a**2))*(c_e/c_a - c_b*c_d/(4*c_a**2) + c_b**2*c_c/(16*c_a**3) - 3*c_b**4/(256*c_a**4))/3 - (c_d/c_a - c_b*c_c/(2*c_a**2) + c_b**3/(8*c_a**3))**2/8)**2/4) + (c_d/c_a - c_b*c_c/(2*c_a**2) + c_b**3/(8*c_a**3))**2/16)**(1/3) - 2*c_c/(3*c_a) + c_b**2/(4*c_a**2))/2 - sqrt(-(2*c_d/c_a - c_b*c_c/c_a**2 + c_b**3/(4*c_a**3))/sqrt(-2*(-c_e/c_a + c_b*c_d/(4*c_a**2) - c_c**2/(12*c_a**2))/(3*((c_c/c_a - 3*c_b**2/(8*c_a**2))**3/216 - (c_c/c_a - 3*c_b**2/(8*c_a**2))*(c_e/c_a - c_b*c_d/(4*c_a**2) + c_b**2*c_c/(16*c_a**3) - 3*c_b**4/(256*c_a**4))/6 + sqrt((-c_e/c_a + c_b*c_d/(4*c_a**2) - c_c**2/(12*c_a**2))**3/27 + (-(c_c/c_a - 3*c_b**2/(8*c_a**2))**3/108 + (c_c/c_a - 3*c_b**2/(8*c_a**2))*(c_e/c_a - c_b*c_d/(4*c_a**2) + c_b**2*c_c/(16*c_a**3) - 3*c_b**4/(256*c_a**4))/3 - (c_d/c_a - c_b*c_c/(2*c_a**2) + c_b**3/(8*c_a**3))**2/8)**2/4) + (c_d/c_a - c_b*c_c/(2*c_a**2) + c_b**3/(8*c_a**3))**2/16)**(1/3)) + 2*((c_c/c_a - 3*c_b**2/(8*c_a**2))**3/216 - (c_c/c_a - 3*c_b**2/(8*c_a**2))*(c_e/c_a - c_b*c_d/(4*c_a**2) + c_b**2*c_c/(16*c_a**3) - 3*c_b**4/(256*c_a**4))/6 + sqrt((-c_e/c_a + c_b*c_d/(4*c_a**2) - c_c**2/(12*c_a**2))**3/27 + (-(c_c/c_a - 3*c_b**2/(8*c_a**2))**3/108 + (c_c/c_a - 3*c_b**2/(8*c_a**2))*(c_e/c_a - c_b*c_d/(4*c_a**2) + c_b**2*c_c/(16*c_a**3) - 3*c_b**4/(256*c_a**4))/3 - (c_d/c_a - c_b*c_c/(2*c_a**2) + c_b**3/(8*c_a**3))**2/8)**2/4) + (c_d/c_a - c_b*c_c/(2*c_a**2) + c_b**3/(8*c_a**3))**2/16)**(1/3) - 2*c_c/(3*c_a) + c_b**2/(4*c_a**2)) + 2*(-c_e/c_a + c_b*c_d/(4*c_a**2) - c_c**2/(12*c_a**2))/(3*((c_c/c_a - 3*c_b**2/(8*c_a**2))**3/216 - (c_c/c_a - 3*c_b**2/(8*c_a**2))*(c_e/c_a - c_b*c_d/(4*c_a**2) + c_b**2*c_c/(16*c_a**3) - 3*c_b**4/(256*c_a**4))/6 + sqrt((-c_e/c_a + c_b*c_d/(4*c_a**2) - c_c**2/(12*c_a**2))**3/27 + (-(c_c/c_a - 3*c_b**2/(8*c_a**2))**3/108 + (c_c/c_a - 3*c_b**2/(8*c_a**2))*(c_e/c_a - c_b*c_d/(4*c_a**2) + c_b**2*c_c/(16*c_a**3) - 3*c_b**4/(256*c_a**4))/3 - (c_d/c_a - c_b*c_c/(2*c_a**2) + c_b**3/(8*c_a**3))**2/8)**2/4) + (c_d/c_a - c_b*c_c/(2*c_a**2) + c_b**3/(8*c_a**3))**2/16)**(1/3)) - 2*((c_c/c_a - 3*c_b**2/(8*c_a**2))**3/216 - (c_c/c_a - 3*c_b**2/(8*c_a**2))*(c_e/c_a - c_b*c_d/(4*c_a**2) + c_b**2*c_c/(16*c_a**3) - 3*c_b**4/(256*c_a**4))/6 + sqrt((-c_e/c_a + c_b*c_d/(4*c_a**2) - c_c**2/(12*c_a**2))**3/27 + (-(c_c/c_a - 3*c_b**2/(8*c_a**2))**3/108 + (c_c/c_a - 3*c_b**2/(8*c_a**2))*(c_e/c_a - c_b*c_d/(4*c_a**2) + c_b**2*c_c/(16*c_a**3) - 3*c_b**4/(256*c_a**4))/3 - (c_d/c_a - c_b*c_c/(2*c_a**2) + c_b**3/(8*c_a**3))**2/8)**2/4) + (c_d/c_a - c_b*c_c/(2*c_a**2) + c_b**3/(8*c_a**3))**2/16)**(1/3) - 4*c_c/(3*c_a) + c_b**2/(2*c_a**2))/2 - c_b/(4*c_a), True)),\n",
       " Piecewise((sqrt(-2*(-(c_c/c_a - 3*c_b**2/(8*c_a**2))**3/108 + (c_c/c_a - 3*c_b**2/(8*c_a**2))*(c_e/c_a - c_b*c_d/(4*c_a**2) + c_b**2*c_c/(16*c_a**3) - 3*c_b**4/(256*c_a**4))/3 - (c_d/c_a - c_b*c_c/(2*c_a**2) + c_b**3/(8*c_a**3))**2/8)**(1/3) - 2*c_c/(3*c_a) + c_b**2/(4*c_a**2))/2 + sqrt(-(2*c_d/c_a - c_b*c_c/c_a**2 + c_b**3/(4*c_a**3))/sqrt(-2*(-(c_c/c_a - 3*c_b**2/(8*c_a**2))**3/108 + (c_c/c_a - 3*c_b**2/(8*c_a**2))*(c_e/c_a - c_b*c_d/(4*c_a**2) + c_b**2*c_c/(16*c_a**3) - 3*c_b**4/(256*c_a**4))/3 - (c_d/c_a - c_b*c_c/(2*c_a**2) + c_b**3/(8*c_a**3))**2/8)**(1/3) - 2*c_c/(3*c_a) + c_b**2/(4*c_a**2)) + 2*(-(c_c/c_a - 3*c_b**2/(8*c_a**2))**3/108 + (c_c/c_a - 3*c_b**2/(8*c_a**2))*(c_e/c_a - c_b*c_d/(4*c_a**2) + c_b**2*c_c/(16*c_a**3) - 3*c_b**4/(256*c_a**4))/3 - (c_d/c_a - c_b*c_c/(2*c_a**2) + c_b**3/(8*c_a**3))**2/8)**(1/3) - 4*c_c/(3*c_a) + c_b**2/(2*c_a**2))/2 - c_b/(4*c_a), Eq(c_e/c_a - c_b*c_d/(4*c_a**2) + c_c**2/(12*c_a**2), 0)), (sqrt(-2*(-c_e/c_a + c_b*c_d/(4*c_a**2) - c_c**2/(12*c_a**2))/(3*((c_c/c_a - 3*c_b**2/(8*c_a**2))**3/216 - (c_c/c_a - 3*c_b**2/(8*c_a**2))*(c_e/c_a - c_b*c_d/(4*c_a**2) + c_b**2*c_c/(16*c_a**3) - 3*c_b**4/(256*c_a**4))/6 + sqrt((-c_e/c_a + c_b*c_d/(4*c_a**2) - c_c**2/(12*c_a**2))**3/27 + (-(c_c/c_a - 3*c_b**2/(8*c_a**2))**3/108 + (c_c/c_a - 3*c_b**2/(8*c_a**2))*(c_e/c_a - c_b*c_d/(4*c_a**2) + c_b**2*c_c/(16*c_a**3) - 3*c_b**4/(256*c_a**4))/3 - (c_d/c_a - c_b*c_c/(2*c_a**2) + c_b**3/(8*c_a**3))**2/8)**2/4) + (c_d/c_a - c_b*c_c/(2*c_a**2) + c_b**3/(8*c_a**3))**2/16)**(1/3)) + 2*((c_c/c_a - 3*c_b**2/(8*c_a**2))**3/216 - (c_c/c_a - 3*c_b**2/(8*c_a**2))*(c_e/c_a - c_b*c_d/(4*c_a**2) + c_b**2*c_c/(16*c_a**3) - 3*c_b**4/(256*c_a**4))/6 + sqrt((-c_e/c_a + c_b*c_d/(4*c_a**2) - c_c**2/(12*c_a**2))**3/27 + (-(c_c/c_a - 3*c_b**2/(8*c_a**2))**3/108 + (c_c/c_a - 3*c_b**2/(8*c_a**2))*(c_e/c_a - c_b*c_d/(4*c_a**2) + c_b**2*c_c/(16*c_a**3) - 3*c_b**4/(256*c_a**4))/3 - (c_d/c_a - c_b*c_c/(2*c_a**2) + c_b**3/(8*c_a**3))**2/8)**2/4) + (c_d/c_a - c_b*c_c/(2*c_a**2) + c_b**3/(8*c_a**3))**2/16)**(1/3) - 2*c_c/(3*c_a) + c_b**2/(4*c_a**2))/2 + sqrt(-(2*c_d/c_a - c_b*c_c/c_a**2 + c_b**3/(4*c_a**3))/sqrt(-2*(-c_e/c_a + c_b*c_d/(4*c_a**2) - c_c**2/(12*c_a**2))/(3*((c_c/c_a - 3*c_b**2/(8*c_a**2))**3/216 - (c_c/c_a - 3*c_b**2/(8*c_a**2))*(c_e/c_a - c_b*c_d/(4*c_a**2) + c_b**2*c_c/(16*c_a**3) - 3*c_b**4/(256*c_a**4))/6 + sqrt((-c_e/c_a + c_b*c_d/(4*c_a**2) - c_c**2/(12*c_a**2))**3/27 + (-(c_c/c_a - 3*c_b**2/(8*c_a**2))**3/108 + (c_c/c_a - 3*c_b**2/(8*c_a**2))*(c_e/c_a - c_b*c_d/(4*c_a**2) + c_b**2*c_c/(16*c_a**3) - 3*c_b**4/(256*c_a**4))/3 - (c_d/c_a - c_b*c_c/(2*c_a**2) + c_b**3/(8*c_a**3))**2/8)**2/4) + (c_d/c_a - c_b*c_c/(2*c_a**2) + c_b**3/(8*c_a**3))**2/16)**(1/3)) + 2*((c_c/c_a - 3*c_b**2/(8*c_a**2))**3/216 - (c_c/c_a - 3*c_b**2/(8*c_a**2))*(c_e/c_a - c_b*c_d/(4*c_a**2) + c_b**2*c_c/(16*c_a**3) - 3*c_b**4/(256*c_a**4))/6 + sqrt((-c_e/c_a + c_b*c_d/(4*c_a**2) - c_c**2/(12*c_a**2))**3/27 + (-(c_c/c_a - 3*c_b**2/(8*c_a**2))**3/108 + (c_c/c_a - 3*c_b**2/(8*c_a**2))*(c_e/c_a - c_b*c_d/(4*c_a**2) + c_b**2*c_c/(16*c_a**3) - 3*c_b**4/(256*c_a**4))/3 - (c_d/c_a - c_b*c_c/(2*c_a**2) + c_b**3/(8*c_a**3))**2/8)**2/4) + (c_d/c_a - c_b*c_c/(2*c_a**2) + c_b**3/(8*c_a**3))**2/16)**(1/3) - 2*c_c/(3*c_a) + c_b**2/(4*c_a**2)) + 2*(-c_e/c_a + c_b*c_d/(4*c_a**2) - c_c**2/(12*c_a**2))/(3*((c_c/c_a - 3*c_b**2/(8*c_a**2))**3/216 - (c_c/c_a - 3*c_b**2/(8*c_a**2))*(c_e/c_a - c_b*c_d/(4*c_a**2) + c_b**2*c_c/(16*c_a**3) - 3*c_b**4/(256*c_a**4))/6 + sqrt((-c_e/c_a + c_b*c_d/(4*c_a**2) - c_c**2/(12*c_a**2))**3/27 + (-(c_c/c_a - 3*c_b**2/(8*c_a**2))**3/108 + (c_c/c_a - 3*c_b**2/(8*c_a**2))*(c_e/c_a - c_b*c_d/(4*c_a**2) + c_b**2*c_c/(16*c_a**3) - 3*c_b**4/(256*c_a**4))/3 - (c_d/c_a - c_b*c_c/(2*c_a**2) + c_b**3/(8*c_a**3))**2/8)**2/4) + (c_d/c_a - c_b*c_c/(2*c_a**2) + c_b**3/(8*c_a**3))**2/16)**(1/3)) - 2*((c_c/c_a - 3*c_b**2/(8*c_a**2))**3/216 - (c_c/c_a - 3*c_b**2/(8*c_a**2))*(c_e/c_a - c_b*c_d/(4*c_a**2) + c_b**2*c_c/(16*c_a**3) - 3*c_b**4/(256*c_a**4))/6 + sqrt((-c_e/c_a + c_b*c_d/(4*c_a**2) - c_c**2/(12*c_a**2))**3/27 + (-(c_c/c_a - 3*c_b**2/(8*c_a**2))**3/108 + (c_c/c_a - 3*c_b**2/(8*c_a**2))*(c_e/c_a - c_b*c_d/(4*c_a**2) + c_b**2*c_c/(16*c_a**3) - 3*c_b**4/(256*c_a**4))/3 - (c_d/c_a - c_b*c_c/(2*c_a**2) + c_b**3/(8*c_a**3))**2/8)**2/4) + (c_d/c_a - c_b*c_c/(2*c_a**2) + c_b**3/(8*c_a**3))**2/16)**(1/3) - 4*c_c/(3*c_a) + c_b**2/(2*c_a**2))/2 - c_b/(4*c_a), True))]"
      ]
     },
     "metadata": {},
     "output_type": "display_data"
    },
    {
     "name": "stdout",
     "output_type": "stream",
     "text": [
      "# opcount: 192\n",
      "var _0:float = -((a_b.x*a_b.x) + (a_b.y*a_b.y))\n",
      "var _1:float = (1.0/(_0*_0))\n",
      "var _2:float = 4.0*a_b.x\n",
      "var _3:float = 4.0*a_b.y\n",
      "var _4:float = -(_2*v_b.x + _3*v_b.y)\n",
      "var _5:float = (_4*_4)\n",
      "var _6:float = _1*_5\n",
      "var _7:float = 1.0/_0\n",
      "var _8:float = 4.0*((F*F) + a_b.x*p_a.x + a_b.y*p_a.y) - (_2*p_b.x + _3*p_b.y + 4.0*(v_b.x*v_b.x) + 4.0*(v_b.y*v_b.y))\n",
      "var _9:float = _7*_8\n",
      "var _10:float = -0.375*_6 + _9\n",
      "var _11:float = (_10*_10*_10)\n",
      "var _12:float = (1.0/(_0*_0*_0))\n",
      "var _13:float = _12*(_4*_4*_4)\n",
      "var _14:float = 8.0*v_b.x\n",
      "var _15:float = 8.0*v_b.y\n",
      "var _16:float = _14*p_a.x + _15*p_a.y - (_14*p_b.x + _15*p_b.y)\n",
      "var _17:float = _16*_7\n",
      "var _18:float = _1*_4\n",
      "var _19:float = _18*_8\n",
      "var _20:float = pow((0.125)*_13 + _17 - 0.5*_19, 2.0)\n",
      "var _21:float = -0.25*(_16*_18 + 16.0*_7*((p_a.x*p_a.x) - 2.0*p_a.x*p_b.x + (p_a.y*p_a.y) - 2.0*p_a.y*p_b.y + (p_b.x*p_b.x) + (p_b.y*p_b.y)))\n",
      "var _22:float = (0.0625)*_12*_5*_8 + _21 - 0.01171875*pow(_4, 4.0)/pow(_0, 4.0)\n",
      "var _23:float = (0.3333333333333333)*_10*_22 - 0.009259259259259259*_11 - 0.125*_20\n",
      "var _24:float = 2.0*cbrt(_23)\n",
      "var _25:float = (0.25)*_13 + 2.0*_17 - _19\n",
      "var _26:float = -0.25*_1*_5 + (0.6666666666666666)*_9\n",
      "var _27:float = sqrt(-_24 - _26)\n",
      "var _28:float = _25/_27\n",
      "var _29:float = (1.3333333333333333)*_9\n",
      "var _30:float = -_29 + (0.5)*_6\n",
      "var _31:float = (0.5)*sqrt(_24 + _28 + _30)\n",
      "var _32:float = (0.5)*_27\n",
      "var _33:float = (0.25)*_4*_7\n",
      "var _34:float = _32 + _33\n",
      "var _35:float = (0.08333333333333333)*_1*(_8*_8) + _21\n",
      "var _36:float = _35 == 0.0\n",
      "var _37:float = -_35\n",
      "var _38:float = cbrt(-0.16666666666666666*_10*_22 + (0.004629629629629629)*_11 + (0.0625)*_20 + sqrt((0.25)*(_23*_23) + (0.037037037037037035)*(_37*_37*_37)))\n",
      "var _39:float = 2.0*_38\n",
      "var _40:float = (0.6666666666666666)*_37/_38\n",
      "var _41:float = -_39 + _40\n",
      "var _42:float = sqrt(-_26 - _41)\n",
      "var _43:float = _25/_42\n",
      "var _44:float = (0.5)*sqrt(_30 + _41 + _43)\n",
      "var _45:float = (0.5)*_42\n",
      "var _46:float = _33 + _45\n",
      "var _47:float = -0.5*_1*_5 + _29\n",
      "var _48:float = (0.5)*sqrt(_24 - _28 - _47)\n",
      "var _49:float = (0.5)*sqrt(-_39 + _40 - _43 - _47)\n",
      "var _50:float = -_33\n",
      "-_31 - _34 if _36 else -_44 - _46\n",
      "_31 - _34 if _36 else _44 - _46\n",
      "_32 - _33 - _48 if _36 else -_33 + _45 - _49\n",
      "_32 + _48 + _50 if _36 else _45 + _49 + _50\n",
      "\n"
     ]
    }
   ],
   "source": [
    "# linear-quadratic intercept\n",
    "q_pix = Eq(vax*T + pax, abx*(T**2)/2 + vbx*T + pbx)\n",
    "q_piy = Eq(vay*T + pay, aby*(T**2)/2 + vby*T + pby)\n",
    "display(q_pix, q_piy)\n",
    "\n",
    "q_f = Eq(F**2, vax**2 + vay**2)\n",
    "display(q_f)\n",
    "\n",
    "q_vax = Eq(vax,solve(q_pix, vax)[0])\n",
    "q_vay = Eq(vay,solve(q_piy, vay)[0])\n",
    "display(q_vax, q_vay)\n",
    "\n",
    "q_f2 = q_f.subs({vax:q_vax.rhs, vay:q_vay.rhs})\n",
    "display(q_f2)\n",
    "q_f2 = Eq(q_f2.lhs * 4*T**2, q_f2.rhs * 4*T**2)\n",
    "q_f2 = simplify(q_f2)\n",
    "q_f2 = q_f2.lhs - q_f2.rhs\n",
    "display(q_f2)\n",
    "\n",
    "q_f2 = collect(expand(q_f2),T)\n",
    "display(q_f2)\n",
    "q_f2_terms = collect(expand(q_f2),T, evaluate=False)\n",
    "ca, cb, cc, cd, ce = symbols('c_a c_b c_c c_d c_e', real=True)\n",
    "q_ca = Eq(ca, q_f2_terms[T**4])\n",
    "q_cb = Eq(cb, q_f2_terms[T**3])\n",
    "q_cc = Eq(cc, q_f2_terms[T**2])\n",
    "q_cd = Eq(cd, q_f2_terms[T**1])\n",
    "q_ce = Eq(ce, q_f2_terms[1])\n",
    "display(q_ca, q_cb, q_cc, q_cd, q_ce)\n",
    "q_f2 = q_f2.subs({q_ca.rhs:q_ca.lhs, q_cb.rhs:q_cb.lhs, q_cc.rhs:q_cc.lhs, q_cd.rhs:q_cd.lhs, q_ce.rhs:q_ce.lhs})\n",
    "display(q_f2)\n",
    "\n",
    "q_t = solve(q_f2, T)\n",
    "display(q_t)\n",
    "\n",
    "sols = [q.subs({q_ca.lhs:q_ca.rhs, q_cb.lhs:q_cb.rhs, q_cc.lhs:q_cc.rhs, q_cd.lhs:q_cd.rhs, q_ce.lhs:q_ce.rhs}) for q in q_t]\n",
    "print(make_code(sols))"
   ]
  },
  {
   "cell_type": "code",
   "execution_count": 41,
   "metadata": {},
   "outputs": [
    {
     "data": {
      "text/latex": [
       "$\\displaystyle \\frac{T^{2} a_{a x}}{2} + T v_{a x} + p_{a x} = T v_{b x} + p_{b x}$"
      ],
      "text/plain": [
       "Eq(T**2*a_a_x/2 + T*v_a_x + p_a_x, T*v_b_x + p_b_x)"
      ]
     },
     "metadata": {},
     "output_type": "display_data"
    },
    {
     "data": {
      "text/latex": [
       "$\\displaystyle \\frac{T^{2} a_{a y}}{2} + T v_{a y} + p_{a y} = T v_{b y} + p_{b y}$"
      ],
      "text/plain": [
       "Eq(T**2*a_a_y/2 + T*v_a_y + p_a_y, T*v_b_y + p_b_y)"
      ]
     },
     "metadata": {},
     "output_type": "display_data"
    },
    {
     "data": {
      "text/latex": [
       "$\\displaystyle F^{2} = a_{a x}^{2} + a_{a y}^{2}$"
      ],
      "text/plain": [
       "Eq(F**2, a_a_x**2 + a_a_y**2)"
      ]
     },
     "metadata": {},
     "output_type": "display_data"
    },
    {
     "data": {
      "text/latex": [
       "$\\displaystyle a_{a x} = \\frac{2 \\left(T \\left(- v_{a x} + v_{b x}\\right) - p_{a x} + p_{b x}\\right)}{T^{2}}$"
      ],
      "text/plain": [
       "Eq(a_a_x, 2*(T*(-v_a_x + v_b_x) - p_a_x + p_b_x)/T**2)"
      ]
     },
     "metadata": {},
     "output_type": "display_data"
    },
    {
     "data": {
      "text/latex": [
       "$\\displaystyle a_{a y} = \\frac{2 \\left(T \\left(- v_{a y} + v_{b y}\\right) - p_{a y} + p_{b y}\\right)}{T^{2}}$"
      ],
      "text/plain": [
       "Eq(a_a_y, 2*(T*(-v_a_y + v_b_y) - p_a_y + p_b_y)/T**2)"
      ]
     },
     "metadata": {},
     "output_type": "display_data"
    },
    {
     "data": {
      "text/latex": [
       "$\\displaystyle F^{2} T^{4} - 4 \\left(T \\left(v_{a x} - v_{b x}\\right) + p_{a x} - p_{b x}\\right)^{2} - 4 \\left(T \\left(v_{a y} - v_{b y}\\right) + p_{a y} - p_{b y}\\right)^{2}$"
      ],
      "text/plain": [
       "F**2*T**4 - 4*(T*(v_a_x - v_b_x) + p_a_x - p_b_x)**2 - 4*(T*(v_a_y - v_b_y) + p_a_y - p_b_y)**2"
      ]
     },
     "metadata": {},
     "output_type": "display_data"
    },
    {
     "data": {
      "text/latex": [
       "$\\displaystyle F^{2} T^{4} + T^{2} \\left(- 4 v_{a x}^{2} + 8 v_{a x} v_{b x} - 4 v_{a y}^{2} + 8 v_{a y} v_{b y} - 4 v_{b x}^{2} - 4 v_{b y}^{2}\\right) + T \\left(- 8 p_{a x} v_{a x} + 8 p_{a x} v_{b x} - 8 p_{a y} v_{a y} + 8 p_{a y} v_{b y} + 8 p_{b x} v_{a x} - 8 p_{b x} v_{b x} + 8 p_{b y} v_{a y} - 8 p_{b y} v_{b y}\\right) - 4 p_{a x}^{2} + 8 p_{a x} p_{b x} - 4 p_{a y}^{2} + 8 p_{a y} p_{b y} - 4 p_{b x}^{2} - 4 p_{b y}^{2}$"
      ],
      "text/plain": [
       "F**2*T**4 + T**2*(-4*v_a_x**2 + 8*v_a_x*v_b_x - 4*v_a_y**2 + 8*v_a_y*v_b_y - 4*v_b_x**2 - 4*v_b_y**2) + T*(-8*p_a_x*v_a_x + 8*p_a_x*v_b_x - 8*p_a_y*v_a_y + 8*p_a_y*v_b_y + 8*p_b_x*v_a_x - 8*p_b_x*v_b_x + 8*p_b_y*v_a_y - 8*p_b_y*v_b_y) - 4*p_a_x**2 + 8*p_a_x*p_b_x - 4*p_a_y**2 + 8*p_a_y*p_b_y - 4*p_b_x**2 - 4*p_b_y**2"
      ]
     },
     "metadata": {},
     "output_type": "display_data"
    },
    {
     "data": {
      "text/latex": [
       "$\\displaystyle c_{a} = F^{2}$"
      ],
      "text/plain": [
       "Eq(c_a, F**2)"
      ]
     },
     "metadata": {},
     "output_type": "display_data"
    },
    {
     "data": {
      "text/latex": [
       "$\\displaystyle c_{c} = - 4 v_{a x}^{2} + 8 v_{a x} v_{b x} - 4 v_{a y}^{2} + 8 v_{a y} v_{b y} - 4 v_{b x}^{2} - 4 v_{b y}^{2}$"
      ],
      "text/plain": [
       "Eq(c_c, -4*v_a_x**2 + 8*v_a_x*v_b_x - 4*v_a_y**2 + 8*v_a_y*v_b_y - 4*v_b_x**2 - 4*v_b_y**2)"
      ]
     },
     "metadata": {},
     "output_type": "display_data"
    },
    {
     "data": {
      "text/latex": [
       "$\\displaystyle c_{d} = - 8 p_{a x} v_{a x} + 8 p_{a x} v_{b x} - 8 p_{a y} v_{a y} + 8 p_{a y} v_{b y} + 8 p_{b x} v_{a x} - 8 p_{b x} v_{b x} + 8 p_{b y} v_{a y} - 8 p_{b y} v_{b y}$"
      ],
      "text/plain": [
       "Eq(c_d, -8*p_a_x*v_a_x + 8*p_a_x*v_b_x - 8*p_a_y*v_a_y + 8*p_a_y*v_b_y + 8*p_b_x*v_a_x - 8*p_b_x*v_b_x + 8*p_b_y*v_a_y - 8*p_b_y*v_b_y)"
      ]
     },
     "metadata": {},
     "output_type": "display_data"
    },
    {
     "data": {
      "text/latex": [
       "$\\displaystyle c_{e} = - 4 p_{a x}^{2} + 8 p_{a x} p_{b x} - 4 p_{a y}^{2} + 8 p_{a y} p_{b y} - 4 p_{b x}^{2} - 4 p_{b y}^{2}$"
      ],
      "text/plain": [
       "Eq(c_e, -4*p_a_x**2 + 8*p_a_x*p_b_x - 4*p_a_y**2 + 8*p_a_y*p_b_y - 4*p_b_x**2 - 4*p_b_y**2)"
      ]
     },
     "metadata": {},
     "output_type": "display_data"
    },
    {
     "data": {
      "text/latex": [
       "$\\displaystyle T^{4} c_{a} + T^{2} c_{c} + T c_{d} + c_{e}$"
      ],
      "text/plain": [
       "T**4*c_a + T**2*c_c + T*c_d + c_e"
      ]
     },
     "metadata": {},
     "output_type": "display_data"
    },
    {
     "data": {
      "text/plain": [
       "[Piecewise((-sqrt(-2*(c_c*c_e/(3*c_a**2) - c_d**2/(8*c_a**2) - c_c**3/(108*c_a**3))**(1/3) - 2*c_c/(3*c_a))/2 - sqrt(2*(c_c*c_e/(3*c_a**2) - c_d**2/(8*c_a**2) - c_c**3/(108*c_a**3))**(1/3) - 4*c_c/(3*c_a) + 2*c_d/(c_a*sqrt(-2*(c_c*c_e/(3*c_a**2) - c_d**2/(8*c_a**2) - c_c**3/(108*c_a**3))**(1/3) - 2*c_c/(3*c_a))))/2, Eq(c_e/c_a + c_c**2/(12*c_a**2), 0)), (-sqrt(-2*(-c_e/c_a - c_c**2/(12*c_a**2))/(3*(sqrt((-c_e/c_a - c_c**2/(12*c_a**2))**3/27 + (c_c*c_e/(3*c_a**2) - c_d**2/(8*c_a**2) - c_c**3/(108*c_a**3))**2/4) - c_c*c_e/(6*c_a**2) + c_d**2/(16*c_a**2) + c_c**3/(216*c_a**3))**(1/3)) + 2*(sqrt((-c_e/c_a - c_c**2/(12*c_a**2))**3/27 + (c_c*c_e/(3*c_a**2) - c_d**2/(8*c_a**2) - c_c**3/(108*c_a**3))**2/4) - c_c*c_e/(6*c_a**2) + c_d**2/(16*c_a**2) + c_c**3/(216*c_a**3))**(1/3) - 2*c_c/(3*c_a))/2 - sqrt(2*(-c_e/c_a - c_c**2/(12*c_a**2))/(3*(sqrt((-c_e/c_a - c_c**2/(12*c_a**2))**3/27 + (c_c*c_e/(3*c_a**2) - c_d**2/(8*c_a**2) - c_c**3/(108*c_a**3))**2/4) - c_c*c_e/(6*c_a**2) + c_d**2/(16*c_a**2) + c_c**3/(216*c_a**3))**(1/3)) - 2*(sqrt((-c_e/c_a - c_c**2/(12*c_a**2))**3/27 + (c_c*c_e/(3*c_a**2) - c_d**2/(8*c_a**2) - c_c**3/(108*c_a**3))**2/4) - c_c*c_e/(6*c_a**2) + c_d**2/(16*c_a**2) + c_c**3/(216*c_a**3))**(1/3) - 4*c_c/(3*c_a) + 2*c_d/(c_a*sqrt(-2*(-c_e/c_a - c_c**2/(12*c_a**2))/(3*(sqrt((-c_e/c_a - c_c**2/(12*c_a**2))**3/27 + (c_c*c_e/(3*c_a**2) - c_d**2/(8*c_a**2) - c_c**3/(108*c_a**3))**2/4) - c_c*c_e/(6*c_a**2) + c_d**2/(16*c_a**2) + c_c**3/(216*c_a**3))**(1/3)) + 2*(sqrt((-c_e/c_a - c_c**2/(12*c_a**2))**3/27 + (c_c*c_e/(3*c_a**2) - c_d**2/(8*c_a**2) - c_c**3/(108*c_a**3))**2/4) - c_c*c_e/(6*c_a**2) + c_d**2/(16*c_a**2) + c_c**3/(216*c_a**3))**(1/3) - 2*c_c/(3*c_a))))/2, True)),\n",
       " Piecewise((-sqrt(-2*(c_c*c_e/(3*c_a**2) - c_d**2/(8*c_a**2) - c_c**3/(108*c_a**3))**(1/3) - 2*c_c/(3*c_a))/2 + sqrt(2*(c_c*c_e/(3*c_a**2) - c_d**2/(8*c_a**2) - c_c**3/(108*c_a**3))**(1/3) - 4*c_c/(3*c_a) + 2*c_d/(c_a*sqrt(-2*(c_c*c_e/(3*c_a**2) - c_d**2/(8*c_a**2) - c_c**3/(108*c_a**3))**(1/3) - 2*c_c/(3*c_a))))/2, Eq(c_e/c_a + c_c**2/(12*c_a**2), 0)), (-sqrt(-2*(-c_e/c_a - c_c**2/(12*c_a**2))/(3*(sqrt((-c_e/c_a - c_c**2/(12*c_a**2))**3/27 + (c_c*c_e/(3*c_a**2) - c_d**2/(8*c_a**2) - c_c**3/(108*c_a**3))**2/4) - c_c*c_e/(6*c_a**2) + c_d**2/(16*c_a**2) + c_c**3/(216*c_a**3))**(1/3)) + 2*(sqrt((-c_e/c_a - c_c**2/(12*c_a**2))**3/27 + (c_c*c_e/(3*c_a**2) - c_d**2/(8*c_a**2) - c_c**3/(108*c_a**3))**2/4) - c_c*c_e/(6*c_a**2) + c_d**2/(16*c_a**2) + c_c**3/(216*c_a**3))**(1/3) - 2*c_c/(3*c_a))/2 + sqrt(2*(-c_e/c_a - c_c**2/(12*c_a**2))/(3*(sqrt((-c_e/c_a - c_c**2/(12*c_a**2))**3/27 + (c_c*c_e/(3*c_a**2) - c_d**2/(8*c_a**2) - c_c**3/(108*c_a**3))**2/4) - c_c*c_e/(6*c_a**2) + c_d**2/(16*c_a**2) + c_c**3/(216*c_a**3))**(1/3)) - 2*(sqrt((-c_e/c_a - c_c**2/(12*c_a**2))**3/27 + (c_c*c_e/(3*c_a**2) - c_d**2/(8*c_a**2) - c_c**3/(108*c_a**3))**2/4) - c_c*c_e/(6*c_a**2) + c_d**2/(16*c_a**2) + c_c**3/(216*c_a**3))**(1/3) - 4*c_c/(3*c_a) + 2*c_d/(c_a*sqrt(-2*(-c_e/c_a - c_c**2/(12*c_a**2))/(3*(sqrt((-c_e/c_a - c_c**2/(12*c_a**2))**3/27 + (c_c*c_e/(3*c_a**2) - c_d**2/(8*c_a**2) - c_c**3/(108*c_a**3))**2/4) - c_c*c_e/(6*c_a**2) + c_d**2/(16*c_a**2) + c_c**3/(216*c_a**3))**(1/3)) + 2*(sqrt((-c_e/c_a - c_c**2/(12*c_a**2))**3/27 + (c_c*c_e/(3*c_a**2) - c_d**2/(8*c_a**2) - c_c**3/(108*c_a**3))**2/4) - c_c*c_e/(6*c_a**2) + c_d**2/(16*c_a**2) + c_c**3/(216*c_a**3))**(1/3) - 2*c_c/(3*c_a))))/2, True)),\n",
       " Piecewise((sqrt(-2*(c_c*c_e/(3*c_a**2) - c_d**2/(8*c_a**2) - c_c**3/(108*c_a**3))**(1/3) - 2*c_c/(3*c_a))/2 - sqrt(2*(c_c*c_e/(3*c_a**2) - c_d**2/(8*c_a**2) - c_c**3/(108*c_a**3))**(1/3) - 4*c_c/(3*c_a) - 2*c_d/(c_a*sqrt(-2*(c_c*c_e/(3*c_a**2) - c_d**2/(8*c_a**2) - c_c**3/(108*c_a**3))**(1/3) - 2*c_c/(3*c_a))))/2, Eq(c_e/c_a + c_c**2/(12*c_a**2), 0)), (sqrt(-2*(-c_e/c_a - c_c**2/(12*c_a**2))/(3*(sqrt((-c_e/c_a - c_c**2/(12*c_a**2))**3/27 + (c_c*c_e/(3*c_a**2) - c_d**2/(8*c_a**2) - c_c**3/(108*c_a**3))**2/4) - c_c*c_e/(6*c_a**2) + c_d**2/(16*c_a**2) + c_c**3/(216*c_a**3))**(1/3)) + 2*(sqrt((-c_e/c_a - c_c**2/(12*c_a**2))**3/27 + (c_c*c_e/(3*c_a**2) - c_d**2/(8*c_a**2) - c_c**3/(108*c_a**3))**2/4) - c_c*c_e/(6*c_a**2) + c_d**2/(16*c_a**2) + c_c**3/(216*c_a**3))**(1/3) - 2*c_c/(3*c_a))/2 - sqrt(2*(-c_e/c_a - c_c**2/(12*c_a**2))/(3*(sqrt((-c_e/c_a - c_c**2/(12*c_a**2))**3/27 + (c_c*c_e/(3*c_a**2) - c_d**2/(8*c_a**2) - c_c**3/(108*c_a**3))**2/4) - c_c*c_e/(6*c_a**2) + c_d**2/(16*c_a**2) + c_c**3/(216*c_a**3))**(1/3)) - 2*(sqrt((-c_e/c_a - c_c**2/(12*c_a**2))**3/27 + (c_c*c_e/(3*c_a**2) - c_d**2/(8*c_a**2) - c_c**3/(108*c_a**3))**2/4) - c_c*c_e/(6*c_a**2) + c_d**2/(16*c_a**2) + c_c**3/(216*c_a**3))**(1/3) - 4*c_c/(3*c_a) - 2*c_d/(c_a*sqrt(-2*(-c_e/c_a - c_c**2/(12*c_a**2))/(3*(sqrt((-c_e/c_a - c_c**2/(12*c_a**2))**3/27 + (c_c*c_e/(3*c_a**2) - c_d**2/(8*c_a**2) - c_c**3/(108*c_a**3))**2/4) - c_c*c_e/(6*c_a**2) + c_d**2/(16*c_a**2) + c_c**3/(216*c_a**3))**(1/3)) + 2*(sqrt((-c_e/c_a - c_c**2/(12*c_a**2))**3/27 + (c_c*c_e/(3*c_a**2) - c_d**2/(8*c_a**2) - c_c**3/(108*c_a**3))**2/4) - c_c*c_e/(6*c_a**2) + c_d**2/(16*c_a**2) + c_c**3/(216*c_a**3))**(1/3) - 2*c_c/(3*c_a))))/2, True)),\n",
       " Piecewise((sqrt(-2*(c_c*c_e/(3*c_a**2) - c_d**2/(8*c_a**2) - c_c**3/(108*c_a**3))**(1/3) - 2*c_c/(3*c_a))/2 + sqrt(2*(c_c*c_e/(3*c_a**2) - c_d**2/(8*c_a**2) - c_c**3/(108*c_a**3))**(1/3) - 4*c_c/(3*c_a) - 2*c_d/(c_a*sqrt(-2*(c_c*c_e/(3*c_a**2) - c_d**2/(8*c_a**2) - c_c**3/(108*c_a**3))**(1/3) - 2*c_c/(3*c_a))))/2, Eq(c_e/c_a + c_c**2/(12*c_a**2), 0)), (sqrt(-2*(-c_e/c_a - c_c**2/(12*c_a**2))/(3*(sqrt((-c_e/c_a - c_c**2/(12*c_a**2))**3/27 + (c_c*c_e/(3*c_a**2) - c_d**2/(8*c_a**2) - c_c**3/(108*c_a**3))**2/4) - c_c*c_e/(6*c_a**2) + c_d**2/(16*c_a**2) + c_c**3/(216*c_a**3))**(1/3)) + 2*(sqrt((-c_e/c_a - c_c**2/(12*c_a**2))**3/27 + (c_c*c_e/(3*c_a**2) - c_d**2/(8*c_a**2) - c_c**3/(108*c_a**3))**2/4) - c_c*c_e/(6*c_a**2) + c_d**2/(16*c_a**2) + c_c**3/(216*c_a**3))**(1/3) - 2*c_c/(3*c_a))/2 + sqrt(2*(-c_e/c_a - c_c**2/(12*c_a**2))/(3*(sqrt((-c_e/c_a - c_c**2/(12*c_a**2))**3/27 + (c_c*c_e/(3*c_a**2) - c_d**2/(8*c_a**2) - c_c**3/(108*c_a**3))**2/4) - c_c*c_e/(6*c_a**2) + c_d**2/(16*c_a**2) + c_c**3/(216*c_a**3))**(1/3)) - 2*(sqrt((-c_e/c_a - c_c**2/(12*c_a**2))**3/27 + (c_c*c_e/(3*c_a**2) - c_d**2/(8*c_a**2) - c_c**3/(108*c_a**3))**2/4) - c_c*c_e/(6*c_a**2) + c_d**2/(16*c_a**2) + c_c**3/(216*c_a**3))**(1/3) - 4*c_c/(3*c_a) - 2*c_d/(c_a*sqrt(-2*(-c_e/c_a - c_c**2/(12*c_a**2))/(3*(sqrt((-c_e/c_a - c_c**2/(12*c_a**2))**3/27 + (c_c*c_e/(3*c_a**2) - c_d**2/(8*c_a**2) - c_c**3/(108*c_a**3))**2/4) - c_c*c_e/(6*c_a**2) + c_d**2/(16*c_a**2) + c_c**3/(216*c_a**3))**(1/3)) + 2*(sqrt((-c_e/c_a - c_c**2/(12*c_a**2))**3/27 + (c_c*c_e/(3*c_a**2) - c_d**2/(8*c_a**2) - c_c**3/(108*c_a**3))**2/4) - c_c*c_e/(6*c_a**2) + c_d**2/(16*c_a**2) + c_c**3/(216*c_a**3))**(1/3) - 2*c_c/(3*c_a))))/2, True))]"
      ]
     },
     "metadata": {},
     "output_type": "display_data"
    },
    {
     "name": "stdout",
     "output_type": "stream",
     "text": [
      "# opcount: 145\n",
      "var _0:float = (1.0/(F*F))\n",
      "var _1:float = 8.0*(v_a.x*v_b.x + v_a.y*v_b.y) - 4.0*((v_a.x*v_a.x) + (v_a.y*v_a.y) + (v_b.x*v_b.x) + (v_b.y*v_b.y))\n",
      "var _2:float = _0*_1\n",
      "var _3:float = (0.6666666666666666)*_2\n",
      "var _4:float = (_1*_1*_1)/pow(F, 6.0)\n",
      "var _5:float = pow(F, -4.0)\n",
      "var _6:float = 8.0*(-p_a.x*v_a.x + p_a.x*v_b.x - p_a.y*v_a.y + p_a.y*v_b.y + p_b.x*v_a.x - p_b.x*v_b.x + p_b.y*v_a.y - p_b.y*v_b.y)\n",
      "var _7:float = _5*(_6*_6)\n",
      "var _8:float = 8.0*(p_a.x*p_b.x + p_a.y*p_b.y) - 4.0*((p_a.x*p_a.x) + (p_a.y*p_a.y) + (p_b.x*p_b.x) + (p_b.y*p_b.y))\n",
      "var _9:float = (0.3333333333333333)*_1*_5*_8 - 0.009259259259259259*_4 - 0.125*_7\n",
      "var _10:float = 2.0*cbrt(_9)\n",
      "var _11:float = sqrt(-_10 - _3)\n",
      "var _12:float = (0.5)*_11\n",
      "var _13:float = (1.3333333333333333)*_2\n",
      "var _14:float = -_13\n",
      "var _15:float = 2.0*_0*_6\n",
      "var _16:float = _15/_11\n",
      "var _17:float = (0.5)*sqrt(_10 + _14 + _16)\n",
      "var _18:float = _0*_8 + (0.08333333333333333)*(_1*_1)*_5\n",
      "var _19:float = _18 == 0.0\n",
      "var _20:float = -_18\n",
      "var _21:float = cbrt(-0.16666666666666666*_1*_5*_8 + (0.004629629629629629)*_4 + (0.0625)*_7 + sqrt((0.037037037037037035)*(_20*_20*_20) + (0.25)*(_9*_9)))\n",
      "var _22:float = 2.0*_21\n",
      "var _23:float = (0.6666666666666666)*_20/_21\n",
      "var _24:float = -_22 + _23\n",
      "var _25:float = sqrt(-_24 - _3)\n",
      "var _26:float = (0.5)*_25\n",
      "var _27:float = _15/_25\n",
      "var _28:float = (0.5)*sqrt(_14 + _24 + _27)\n",
      "var _29:float = (0.5)*sqrt(_10 - _13 - _16)\n",
      "var _30:float = (0.5)*sqrt(-_13 - _22 + _23 - _27)\n",
      "-_12 - _17 if _19 else -_26 - _28\n",
      "-_12 + _17 if _19 else -_26 + _28\n",
      "_12 - _29 if _19 else _26 - _30\n",
      "_12 + _29 if _19 else _26 + _30\n",
      "\n"
     ]
    }
   ],
   "source": [
    "# quadratic-linear intercept\n",
    "\n",
    "q_pix = Eq(aax*(T**2)/2 + vax*T + pax, vbx*T + pbx)\n",
    "q_piy = Eq(aay*(T**2)/2 + vay*T + pay, vby*T + pby)\n",
    "display(q_pix, q_piy)\n",
    "\n",
    "q_f = Eq(F**2, aax**2 + aay**2)\n",
    "display(q_f)\n",
    "\n",
    "q_aax = Eq(aax,solve(q_pix, aax)[0])\n",
    "q_aay = Eq(aay,solve(q_piy, aay)[0])\n",
    "display(q_aax, q_aay)\n",
    "\n",
    "q_f2 = q_f.subs({aax:q_aax.rhs, aay:q_aay.rhs})\n",
    "q_f2 = Eq(q_f2.lhs * T**4, q_f2.rhs * T**4)\n",
    "q_f2 = simplify(q_f2)\n",
    "q_f2 = q_f2.lhs - q_f2.rhs\n",
    "display(q_f2)\n",
    "\n",
    "q_f2 = collect(expand(q_f2),T)\n",
    "display(q_f2)\n",
    "q_f2_terms = collect(expand(q_f2),T, evaluate=False)\n",
    "ca, cb, cc, cd, ce = symbols('c_a c_b c_c c_d c_e', real=True)\n",
    "q_ca = Eq(ca, q_f2_terms[T**4])\n",
    "#q_cb = Eq(cb, q_f2_terms[T**3])\n",
    "q_cc = Eq(cc, q_f2_terms[T**2])\n",
    "q_cd = Eq(cd, q_f2_terms[T**1])\n",
    "q_ce = Eq(ce, q_f2_terms[1])\n",
    "display(q_ca, q_cc, q_cd, q_ce)\n",
    "q_f2 = q_f2.subs({q_ca.rhs:q_ca.lhs, q_cc.rhs:q_cc.lhs, q_cd.rhs:q_cd.lhs, q_ce.rhs:q_ce.lhs})\n",
    "display(q_f2)\n",
    "\n",
    "q_t = solve(q_f2, T)\n",
    "display(q_t)\n",
    "\n",
    "sols = [q.subs({q_ca.lhs:q_ca.rhs, q_cb.lhs:q_cb.rhs, q_cc.lhs:q_cc.rhs, q_cd.lhs:q_cd.rhs, q_ce.lhs:q_ce.rhs}) for q in q_t]\n",
    "print(make_code(sols))"
   ]
  },
  {
   "cell_type": "code",
   "execution_count": 42,
   "metadata": {},
   "outputs": [
    {
     "data": {
      "text/latex": [
       "$\\displaystyle \\frac{T^{2} a_{a x}}{2} + T v_{a x} + p_{a x} = \\frac{T^{2} a_{b x}}{2} + T v_{b x} + p_{b x}$"
      ],
      "text/plain": [
       "Eq(T**2*a_a_x/2 + T*v_a_x + p_a_x, T**2*a_b_x/2 + T*v_b_x + p_b_x)"
      ]
     },
     "metadata": {},
     "output_type": "display_data"
    },
    {
     "data": {
      "text/latex": [
       "$\\displaystyle \\frac{T^{2} a_{a y}}{2} + T v_{a y} + p_{a y} = \\frac{T^{2} a_{b y}}{2} + T v_{b y} + p_{b y}$"
      ],
      "text/plain": [
       "Eq(T**2*a_a_y/2 + T*v_a_y + p_a_y, T**2*a_b_y/2 + T*v_b_y + p_b_y)"
      ]
     },
     "metadata": {},
     "output_type": "display_data"
    },
    {
     "data": {
      "text/latex": [
       "$\\displaystyle F^{2} = a_{a x}^{2} + a_{a y}^{2}$"
      ],
      "text/plain": [
       "Eq(F**2, a_a_x**2 + a_a_y**2)"
      ]
     },
     "metadata": {},
     "output_type": "display_data"
    },
    {
     "data": {
      "text/latex": [
       "$\\displaystyle a_{a x} = \\frac{T^{2} a_{b x} + 2 T \\left(- v_{a x} + v_{b x}\\right) - 2 p_{a x} + 2 p_{b x}}{T^{2}}$"
      ],
      "text/plain": [
       "Eq(a_a_x, (T**2*a_b_x + 2*T*(-v_a_x + v_b_x) - 2*p_a_x + 2*p_b_x)/T**2)"
      ]
     },
     "metadata": {},
     "output_type": "display_data"
    },
    {
     "data": {
      "text/latex": [
       "$\\displaystyle a_{a y} = \\frac{T^{2} a_{b y} + 2 T \\left(- v_{a y} + v_{b y}\\right) - 2 p_{a y} + 2 p_{b y}}{T^{2}}$"
      ],
      "text/plain": [
       "Eq(a_a_y, (T**2*a_b_y + 2*T*(-v_a_y + v_b_y) - 2*p_a_y + 2*p_b_y)/T**2)"
      ]
     },
     "metadata": {},
     "output_type": "display_data"
    },
    {
     "data": {
      "text/latex": [
       "$\\displaystyle F^{2} T^{4} - \\left(T^{2} a_{b x} - 2 T \\left(v_{a x} - v_{b x}\\right) - 2 p_{a x} + 2 p_{b x}\\right)^{2} - \\left(T^{2} a_{b y} - 2 T \\left(v_{a y} - v_{b y}\\right) - 2 p_{a y} + 2 p_{b y}\\right)^{2}$"
      ],
      "text/plain": [
       "F**2*T**4 - (T**2*a_b_x - 2*T*(v_a_x - v_b_x) - 2*p_a_x + 2*p_b_x)**2 - (T**2*a_b_y - 2*T*(v_a_y - v_b_y) - 2*p_a_y + 2*p_b_y)**2"
      ]
     },
     "metadata": {},
     "output_type": "display_data"
    },
    {
     "data": {
      "text/latex": [
       "$\\displaystyle T^{4} \\left(F^{2} - a_{b x}^{2} - a_{b y}^{2}\\right) + T^{3} \\cdot \\left(4 a_{b x} v_{a x} - 4 a_{b x} v_{b x} + 4 a_{b y} v_{a y} - 4 a_{b y} v_{b y}\\right) + T^{2} \\cdot \\left(4 a_{b x} p_{a x} - 4 a_{b x} p_{b x} + 4 a_{b y} p_{a y} - 4 a_{b y} p_{b y} - 4 v_{a x}^{2} + 8 v_{a x} v_{b x} - 4 v_{a y}^{2} + 8 v_{a y} v_{b y} - 4 v_{b x}^{2} - 4 v_{b y}^{2}\\right) + T \\left(- 8 p_{a x} v_{a x} + 8 p_{a x} v_{b x} - 8 p_{a y} v_{a y} + 8 p_{a y} v_{b y} + 8 p_{b x} v_{a x} - 8 p_{b x} v_{b x} + 8 p_{b y} v_{a y} - 8 p_{b y} v_{b y}\\right) - 4 p_{a x}^{2} + 8 p_{a x} p_{b x} - 4 p_{a y}^{2} + 8 p_{a y} p_{b y} - 4 p_{b x}^{2} - 4 p_{b y}^{2}$"
      ],
      "text/plain": [
       "T**4*(F**2 - a_b_x**2 - a_b_y**2) + T**3*(4*a_b_x*v_a_x - 4*a_b_x*v_b_x + 4*a_b_y*v_a_y - 4*a_b_y*v_b_y) + T**2*(4*a_b_x*p_a_x - 4*a_b_x*p_b_x + 4*a_b_y*p_a_y - 4*a_b_y*p_b_y - 4*v_a_x**2 + 8*v_a_x*v_b_x - 4*v_a_y**2 + 8*v_a_y*v_b_y - 4*v_b_x**2 - 4*v_b_y**2) + T*(-8*p_a_x*v_a_x + 8*p_a_x*v_b_x - 8*p_a_y*v_a_y + 8*p_a_y*v_b_y + 8*p_b_x*v_a_x - 8*p_b_x*v_b_x + 8*p_b_y*v_a_y - 8*p_b_y*v_b_y) - 4*p_a_x**2 + 8*p_a_x*p_b_x - 4*p_a_y**2 + 8*p_a_y*p_b_y - 4*p_b_x**2 - 4*p_b_y**2"
      ]
     },
     "metadata": {},
     "output_type": "display_data"
    },
    {
     "data": {
      "text/latex": [
       "$\\displaystyle c_{a} = F^{2} - a_{b x}^{2} - a_{b y}^{2}$"
      ],
      "text/plain": [
       "Eq(c_a, F**2 - a_b_x**2 - a_b_y**2)"
      ]
     },
     "metadata": {},
     "output_type": "display_data"
    },
    {
     "data": {
      "text/latex": [
       "$\\displaystyle c_{b} = 4 a_{b x} v_{a x} - 4 a_{b x} v_{b x} + 4 a_{b y} v_{a y} - 4 a_{b y} v_{b y}$"
      ],
      "text/plain": [
       "Eq(c_b, 4*a_b_x*v_a_x - 4*a_b_x*v_b_x + 4*a_b_y*v_a_y - 4*a_b_y*v_b_y)"
      ]
     },
     "metadata": {},
     "output_type": "display_data"
    },
    {
     "data": {
      "text/latex": [
       "$\\displaystyle c_{c} = 4 a_{b x} p_{a x} - 4 a_{b x} p_{b x} + 4 a_{b y} p_{a y} - 4 a_{b y} p_{b y} - 4 v_{a x}^{2} + 8 v_{a x} v_{b x} - 4 v_{a y}^{2} + 8 v_{a y} v_{b y} - 4 v_{b x}^{2} - 4 v_{b y}^{2}$"
      ],
      "text/plain": [
       "Eq(c_c, 4*a_b_x*p_a_x - 4*a_b_x*p_b_x + 4*a_b_y*p_a_y - 4*a_b_y*p_b_y - 4*v_a_x**2 + 8*v_a_x*v_b_x - 4*v_a_y**2 + 8*v_a_y*v_b_y - 4*v_b_x**2 - 4*v_b_y**2)"
      ]
     },
     "metadata": {},
     "output_type": "display_data"
    },
    {
     "data": {
      "text/latex": [
       "$\\displaystyle c_{d} = - 8 p_{a x} v_{a x} + 8 p_{a x} v_{b x} - 8 p_{a y} v_{a y} + 8 p_{a y} v_{b y} + 8 p_{b x} v_{a x} - 8 p_{b x} v_{b x} + 8 p_{b y} v_{a y} - 8 p_{b y} v_{b y}$"
      ],
      "text/plain": [
       "Eq(c_d, -8*p_a_x*v_a_x + 8*p_a_x*v_b_x - 8*p_a_y*v_a_y + 8*p_a_y*v_b_y + 8*p_b_x*v_a_x - 8*p_b_x*v_b_x + 8*p_b_y*v_a_y - 8*p_b_y*v_b_y)"
      ]
     },
     "metadata": {},
     "output_type": "display_data"
    },
    {
     "data": {
      "text/latex": [
       "$\\displaystyle c_{e} = - 4 p_{a x}^{2} + 8 p_{a x} p_{b x} - 4 p_{a y}^{2} + 8 p_{a y} p_{b y} - 4 p_{b x}^{2} - 4 p_{b y}^{2}$"
      ],
      "text/plain": [
       "Eq(c_e, -4*p_a_x**2 + 8*p_a_x*p_b_x - 4*p_a_y**2 + 8*p_a_y*p_b_y - 4*p_b_x**2 - 4*p_b_y**2)"
      ]
     },
     "metadata": {},
     "output_type": "display_data"
    },
    {
     "data": {
      "text/latex": [
       "$\\displaystyle T^{4} c_{a} + T^{3} c_{b} + T^{2} c_{c} + T c_{d} + c_{e}$"
      ],
      "text/plain": [
       "T**4*c_a + T**3*c_b + T**2*c_c + T*c_d + c_e"
      ]
     },
     "metadata": {},
     "output_type": "display_data"
    },
    {
     "data": {
      "text/plain": [
       "[Piecewise((-sqrt(-2*(-(c_c/c_a - 3*c_b**2/(8*c_a**2))**3/108 + (c_c/c_a - 3*c_b**2/(8*c_a**2))*(c_e/c_a - c_b*c_d/(4*c_a**2) + c_b**2*c_c/(16*c_a**3) - 3*c_b**4/(256*c_a**4))/3 - (c_d/c_a - c_b*c_c/(2*c_a**2) + c_b**3/(8*c_a**3))**2/8)**(1/3) - 2*c_c/(3*c_a) + c_b**2/(4*c_a**2))/2 - sqrt((2*c_d/c_a - c_b*c_c/c_a**2 + c_b**3/(4*c_a**3))/sqrt(-2*(-(c_c/c_a - 3*c_b**2/(8*c_a**2))**3/108 + (c_c/c_a - 3*c_b**2/(8*c_a**2))*(c_e/c_a - c_b*c_d/(4*c_a**2) + c_b**2*c_c/(16*c_a**3) - 3*c_b**4/(256*c_a**4))/3 - (c_d/c_a - c_b*c_c/(2*c_a**2) + c_b**3/(8*c_a**3))**2/8)**(1/3) - 2*c_c/(3*c_a) + c_b**2/(4*c_a**2)) + 2*(-(c_c/c_a - 3*c_b**2/(8*c_a**2))**3/108 + (c_c/c_a - 3*c_b**2/(8*c_a**2))*(c_e/c_a - c_b*c_d/(4*c_a**2) + c_b**2*c_c/(16*c_a**3) - 3*c_b**4/(256*c_a**4))/3 - (c_d/c_a - c_b*c_c/(2*c_a**2) + c_b**3/(8*c_a**3))**2/8)**(1/3) - 4*c_c/(3*c_a) + c_b**2/(2*c_a**2))/2 - c_b/(4*c_a), Eq(c_e/c_a - c_b*c_d/(4*c_a**2) + c_c**2/(12*c_a**2), 0)), (-sqrt(-2*(-c_e/c_a + c_b*c_d/(4*c_a**2) - c_c**2/(12*c_a**2))/(3*((c_c/c_a - 3*c_b**2/(8*c_a**2))**3/216 - (c_c/c_a - 3*c_b**2/(8*c_a**2))*(c_e/c_a - c_b*c_d/(4*c_a**2) + c_b**2*c_c/(16*c_a**3) - 3*c_b**4/(256*c_a**4))/6 + sqrt((-c_e/c_a + c_b*c_d/(4*c_a**2) - c_c**2/(12*c_a**2))**3/27 + (-(c_c/c_a - 3*c_b**2/(8*c_a**2))**3/108 + (c_c/c_a - 3*c_b**2/(8*c_a**2))*(c_e/c_a - c_b*c_d/(4*c_a**2) + c_b**2*c_c/(16*c_a**3) - 3*c_b**4/(256*c_a**4))/3 - (c_d/c_a - c_b*c_c/(2*c_a**2) + c_b**3/(8*c_a**3))**2/8)**2/4) + (c_d/c_a - c_b*c_c/(2*c_a**2) + c_b**3/(8*c_a**3))**2/16)**(1/3)) + 2*((c_c/c_a - 3*c_b**2/(8*c_a**2))**3/216 - (c_c/c_a - 3*c_b**2/(8*c_a**2))*(c_e/c_a - c_b*c_d/(4*c_a**2) + c_b**2*c_c/(16*c_a**3) - 3*c_b**4/(256*c_a**4))/6 + sqrt((-c_e/c_a + c_b*c_d/(4*c_a**2) - c_c**2/(12*c_a**2))**3/27 + (-(c_c/c_a - 3*c_b**2/(8*c_a**2))**3/108 + (c_c/c_a - 3*c_b**2/(8*c_a**2))*(c_e/c_a - c_b*c_d/(4*c_a**2) + c_b**2*c_c/(16*c_a**3) - 3*c_b**4/(256*c_a**4))/3 - (c_d/c_a - c_b*c_c/(2*c_a**2) + c_b**3/(8*c_a**3))**2/8)**2/4) + (c_d/c_a - c_b*c_c/(2*c_a**2) + c_b**3/(8*c_a**3))**2/16)**(1/3) - 2*c_c/(3*c_a) + c_b**2/(4*c_a**2))/2 - sqrt((2*c_d/c_a - c_b*c_c/c_a**2 + c_b**3/(4*c_a**3))/sqrt(-2*(-c_e/c_a + c_b*c_d/(4*c_a**2) - c_c**2/(12*c_a**2))/(3*((c_c/c_a - 3*c_b**2/(8*c_a**2))**3/216 - (c_c/c_a - 3*c_b**2/(8*c_a**2))*(c_e/c_a - c_b*c_d/(4*c_a**2) + c_b**2*c_c/(16*c_a**3) - 3*c_b**4/(256*c_a**4))/6 + sqrt((-c_e/c_a + c_b*c_d/(4*c_a**2) - c_c**2/(12*c_a**2))**3/27 + (-(c_c/c_a - 3*c_b**2/(8*c_a**2))**3/108 + (c_c/c_a - 3*c_b**2/(8*c_a**2))*(c_e/c_a - c_b*c_d/(4*c_a**2) + c_b**2*c_c/(16*c_a**3) - 3*c_b**4/(256*c_a**4))/3 - (c_d/c_a - c_b*c_c/(2*c_a**2) + c_b**3/(8*c_a**3))**2/8)**2/4) + (c_d/c_a - c_b*c_c/(2*c_a**2) + c_b**3/(8*c_a**3))**2/16)**(1/3)) + 2*((c_c/c_a - 3*c_b**2/(8*c_a**2))**3/216 - (c_c/c_a - 3*c_b**2/(8*c_a**2))*(c_e/c_a - c_b*c_d/(4*c_a**2) + c_b**2*c_c/(16*c_a**3) - 3*c_b**4/(256*c_a**4))/6 + sqrt((-c_e/c_a + c_b*c_d/(4*c_a**2) - c_c**2/(12*c_a**2))**3/27 + (-(c_c/c_a - 3*c_b**2/(8*c_a**2))**3/108 + (c_c/c_a - 3*c_b**2/(8*c_a**2))*(c_e/c_a - c_b*c_d/(4*c_a**2) + c_b**2*c_c/(16*c_a**3) - 3*c_b**4/(256*c_a**4))/3 - (c_d/c_a - c_b*c_c/(2*c_a**2) + c_b**3/(8*c_a**3))**2/8)**2/4) + (c_d/c_a - c_b*c_c/(2*c_a**2) + c_b**3/(8*c_a**3))**2/16)**(1/3) - 2*c_c/(3*c_a) + c_b**2/(4*c_a**2)) + 2*(-c_e/c_a + c_b*c_d/(4*c_a**2) - c_c**2/(12*c_a**2))/(3*((c_c/c_a - 3*c_b**2/(8*c_a**2))**3/216 - (c_c/c_a - 3*c_b**2/(8*c_a**2))*(c_e/c_a - c_b*c_d/(4*c_a**2) + c_b**2*c_c/(16*c_a**3) - 3*c_b**4/(256*c_a**4))/6 + sqrt((-c_e/c_a + c_b*c_d/(4*c_a**2) - c_c**2/(12*c_a**2))**3/27 + (-(c_c/c_a - 3*c_b**2/(8*c_a**2))**3/108 + (c_c/c_a - 3*c_b**2/(8*c_a**2))*(c_e/c_a - c_b*c_d/(4*c_a**2) + c_b**2*c_c/(16*c_a**3) - 3*c_b**4/(256*c_a**4))/3 - (c_d/c_a - c_b*c_c/(2*c_a**2) + c_b**3/(8*c_a**3))**2/8)**2/4) + (c_d/c_a - c_b*c_c/(2*c_a**2) + c_b**3/(8*c_a**3))**2/16)**(1/3)) - 2*((c_c/c_a - 3*c_b**2/(8*c_a**2))**3/216 - (c_c/c_a - 3*c_b**2/(8*c_a**2))*(c_e/c_a - c_b*c_d/(4*c_a**2) + c_b**2*c_c/(16*c_a**3) - 3*c_b**4/(256*c_a**4))/6 + sqrt((-c_e/c_a + c_b*c_d/(4*c_a**2) - c_c**2/(12*c_a**2))**3/27 + (-(c_c/c_a - 3*c_b**2/(8*c_a**2))**3/108 + (c_c/c_a - 3*c_b**2/(8*c_a**2))*(c_e/c_a - c_b*c_d/(4*c_a**2) + c_b**2*c_c/(16*c_a**3) - 3*c_b**4/(256*c_a**4))/3 - (c_d/c_a - c_b*c_c/(2*c_a**2) + c_b**3/(8*c_a**3))**2/8)**2/4) + (c_d/c_a - c_b*c_c/(2*c_a**2) + c_b**3/(8*c_a**3))**2/16)**(1/3) - 4*c_c/(3*c_a) + c_b**2/(2*c_a**2))/2 - c_b/(4*c_a), True)),\n",
       " Piecewise((-sqrt(-2*(-(c_c/c_a - 3*c_b**2/(8*c_a**2))**3/108 + (c_c/c_a - 3*c_b**2/(8*c_a**2))*(c_e/c_a - c_b*c_d/(4*c_a**2) + c_b**2*c_c/(16*c_a**3) - 3*c_b**4/(256*c_a**4))/3 - (c_d/c_a - c_b*c_c/(2*c_a**2) + c_b**3/(8*c_a**3))**2/8)**(1/3) - 2*c_c/(3*c_a) + c_b**2/(4*c_a**2))/2 + sqrt((2*c_d/c_a - c_b*c_c/c_a**2 + c_b**3/(4*c_a**3))/sqrt(-2*(-(c_c/c_a - 3*c_b**2/(8*c_a**2))**3/108 + (c_c/c_a - 3*c_b**2/(8*c_a**2))*(c_e/c_a - c_b*c_d/(4*c_a**2) + c_b**2*c_c/(16*c_a**3) - 3*c_b**4/(256*c_a**4))/3 - (c_d/c_a - c_b*c_c/(2*c_a**2) + c_b**3/(8*c_a**3))**2/8)**(1/3) - 2*c_c/(3*c_a) + c_b**2/(4*c_a**2)) + 2*(-(c_c/c_a - 3*c_b**2/(8*c_a**2))**3/108 + (c_c/c_a - 3*c_b**2/(8*c_a**2))*(c_e/c_a - c_b*c_d/(4*c_a**2) + c_b**2*c_c/(16*c_a**3) - 3*c_b**4/(256*c_a**4))/3 - (c_d/c_a - c_b*c_c/(2*c_a**2) + c_b**3/(8*c_a**3))**2/8)**(1/3) - 4*c_c/(3*c_a) + c_b**2/(2*c_a**2))/2 - c_b/(4*c_a), Eq(c_e/c_a - c_b*c_d/(4*c_a**2) + c_c**2/(12*c_a**2), 0)), (-sqrt(-2*(-c_e/c_a + c_b*c_d/(4*c_a**2) - c_c**2/(12*c_a**2))/(3*((c_c/c_a - 3*c_b**2/(8*c_a**2))**3/216 - (c_c/c_a - 3*c_b**2/(8*c_a**2))*(c_e/c_a - c_b*c_d/(4*c_a**2) + c_b**2*c_c/(16*c_a**3) - 3*c_b**4/(256*c_a**4))/6 + sqrt((-c_e/c_a + c_b*c_d/(4*c_a**2) - c_c**2/(12*c_a**2))**3/27 + (-(c_c/c_a - 3*c_b**2/(8*c_a**2))**3/108 + (c_c/c_a - 3*c_b**2/(8*c_a**2))*(c_e/c_a - c_b*c_d/(4*c_a**2) + c_b**2*c_c/(16*c_a**3) - 3*c_b**4/(256*c_a**4))/3 - (c_d/c_a - c_b*c_c/(2*c_a**2) + c_b**3/(8*c_a**3))**2/8)**2/4) + (c_d/c_a - c_b*c_c/(2*c_a**2) + c_b**3/(8*c_a**3))**2/16)**(1/3)) + 2*((c_c/c_a - 3*c_b**2/(8*c_a**2))**3/216 - (c_c/c_a - 3*c_b**2/(8*c_a**2))*(c_e/c_a - c_b*c_d/(4*c_a**2) + c_b**2*c_c/(16*c_a**3) - 3*c_b**4/(256*c_a**4))/6 + sqrt((-c_e/c_a + c_b*c_d/(4*c_a**2) - c_c**2/(12*c_a**2))**3/27 + (-(c_c/c_a - 3*c_b**2/(8*c_a**2))**3/108 + (c_c/c_a - 3*c_b**2/(8*c_a**2))*(c_e/c_a - c_b*c_d/(4*c_a**2) + c_b**2*c_c/(16*c_a**3) - 3*c_b**4/(256*c_a**4))/3 - (c_d/c_a - c_b*c_c/(2*c_a**2) + c_b**3/(8*c_a**3))**2/8)**2/4) + (c_d/c_a - c_b*c_c/(2*c_a**2) + c_b**3/(8*c_a**3))**2/16)**(1/3) - 2*c_c/(3*c_a) + c_b**2/(4*c_a**2))/2 + sqrt((2*c_d/c_a - c_b*c_c/c_a**2 + c_b**3/(4*c_a**3))/sqrt(-2*(-c_e/c_a + c_b*c_d/(4*c_a**2) - c_c**2/(12*c_a**2))/(3*((c_c/c_a - 3*c_b**2/(8*c_a**2))**3/216 - (c_c/c_a - 3*c_b**2/(8*c_a**2))*(c_e/c_a - c_b*c_d/(4*c_a**2) + c_b**2*c_c/(16*c_a**3) - 3*c_b**4/(256*c_a**4))/6 + sqrt((-c_e/c_a + c_b*c_d/(4*c_a**2) - c_c**2/(12*c_a**2))**3/27 + (-(c_c/c_a - 3*c_b**2/(8*c_a**2))**3/108 + (c_c/c_a - 3*c_b**2/(8*c_a**2))*(c_e/c_a - c_b*c_d/(4*c_a**2) + c_b**2*c_c/(16*c_a**3) - 3*c_b**4/(256*c_a**4))/3 - (c_d/c_a - c_b*c_c/(2*c_a**2) + c_b**3/(8*c_a**3))**2/8)**2/4) + (c_d/c_a - c_b*c_c/(2*c_a**2) + c_b**3/(8*c_a**3))**2/16)**(1/3)) + 2*((c_c/c_a - 3*c_b**2/(8*c_a**2))**3/216 - (c_c/c_a - 3*c_b**2/(8*c_a**2))*(c_e/c_a - c_b*c_d/(4*c_a**2) + c_b**2*c_c/(16*c_a**3) - 3*c_b**4/(256*c_a**4))/6 + sqrt((-c_e/c_a + c_b*c_d/(4*c_a**2) - c_c**2/(12*c_a**2))**3/27 + (-(c_c/c_a - 3*c_b**2/(8*c_a**2))**3/108 + (c_c/c_a - 3*c_b**2/(8*c_a**2))*(c_e/c_a - c_b*c_d/(4*c_a**2) + c_b**2*c_c/(16*c_a**3) - 3*c_b**4/(256*c_a**4))/3 - (c_d/c_a - c_b*c_c/(2*c_a**2) + c_b**3/(8*c_a**3))**2/8)**2/4) + (c_d/c_a - c_b*c_c/(2*c_a**2) + c_b**3/(8*c_a**3))**2/16)**(1/3) - 2*c_c/(3*c_a) + c_b**2/(4*c_a**2)) + 2*(-c_e/c_a + c_b*c_d/(4*c_a**2) - c_c**2/(12*c_a**2))/(3*((c_c/c_a - 3*c_b**2/(8*c_a**2))**3/216 - (c_c/c_a - 3*c_b**2/(8*c_a**2))*(c_e/c_a - c_b*c_d/(4*c_a**2) + c_b**2*c_c/(16*c_a**3) - 3*c_b**4/(256*c_a**4))/6 + sqrt((-c_e/c_a + c_b*c_d/(4*c_a**2) - c_c**2/(12*c_a**2))**3/27 + (-(c_c/c_a - 3*c_b**2/(8*c_a**2))**3/108 + (c_c/c_a - 3*c_b**2/(8*c_a**2))*(c_e/c_a - c_b*c_d/(4*c_a**2) + c_b**2*c_c/(16*c_a**3) - 3*c_b**4/(256*c_a**4))/3 - (c_d/c_a - c_b*c_c/(2*c_a**2) + c_b**3/(8*c_a**3))**2/8)**2/4) + (c_d/c_a - c_b*c_c/(2*c_a**2) + c_b**3/(8*c_a**3))**2/16)**(1/3)) - 2*((c_c/c_a - 3*c_b**2/(8*c_a**2))**3/216 - (c_c/c_a - 3*c_b**2/(8*c_a**2))*(c_e/c_a - c_b*c_d/(4*c_a**2) + c_b**2*c_c/(16*c_a**3) - 3*c_b**4/(256*c_a**4))/6 + sqrt((-c_e/c_a + c_b*c_d/(4*c_a**2) - c_c**2/(12*c_a**2))**3/27 + (-(c_c/c_a - 3*c_b**2/(8*c_a**2))**3/108 + (c_c/c_a - 3*c_b**2/(8*c_a**2))*(c_e/c_a - c_b*c_d/(4*c_a**2) + c_b**2*c_c/(16*c_a**3) - 3*c_b**4/(256*c_a**4))/3 - (c_d/c_a - c_b*c_c/(2*c_a**2) + c_b**3/(8*c_a**3))**2/8)**2/4) + (c_d/c_a - c_b*c_c/(2*c_a**2) + c_b**3/(8*c_a**3))**2/16)**(1/3) - 4*c_c/(3*c_a) + c_b**2/(2*c_a**2))/2 - c_b/(4*c_a), True)),\n",
       " Piecewise((sqrt(-2*(-(c_c/c_a - 3*c_b**2/(8*c_a**2))**3/108 + (c_c/c_a - 3*c_b**2/(8*c_a**2))*(c_e/c_a - c_b*c_d/(4*c_a**2) + c_b**2*c_c/(16*c_a**3) - 3*c_b**4/(256*c_a**4))/3 - (c_d/c_a - c_b*c_c/(2*c_a**2) + c_b**3/(8*c_a**3))**2/8)**(1/3) - 2*c_c/(3*c_a) + c_b**2/(4*c_a**2))/2 - sqrt(-(2*c_d/c_a - c_b*c_c/c_a**2 + c_b**3/(4*c_a**3))/sqrt(-2*(-(c_c/c_a - 3*c_b**2/(8*c_a**2))**3/108 + (c_c/c_a - 3*c_b**2/(8*c_a**2))*(c_e/c_a - c_b*c_d/(4*c_a**2) + c_b**2*c_c/(16*c_a**3) - 3*c_b**4/(256*c_a**4))/3 - (c_d/c_a - c_b*c_c/(2*c_a**2) + c_b**3/(8*c_a**3))**2/8)**(1/3) - 2*c_c/(3*c_a) + c_b**2/(4*c_a**2)) + 2*(-(c_c/c_a - 3*c_b**2/(8*c_a**2))**3/108 + (c_c/c_a - 3*c_b**2/(8*c_a**2))*(c_e/c_a - c_b*c_d/(4*c_a**2) + c_b**2*c_c/(16*c_a**3) - 3*c_b**4/(256*c_a**4))/3 - (c_d/c_a - c_b*c_c/(2*c_a**2) + c_b**3/(8*c_a**3))**2/8)**(1/3) - 4*c_c/(3*c_a) + c_b**2/(2*c_a**2))/2 - c_b/(4*c_a), Eq(c_e/c_a - c_b*c_d/(4*c_a**2) + c_c**2/(12*c_a**2), 0)), (sqrt(-2*(-c_e/c_a + c_b*c_d/(4*c_a**2) - c_c**2/(12*c_a**2))/(3*((c_c/c_a - 3*c_b**2/(8*c_a**2))**3/216 - (c_c/c_a - 3*c_b**2/(8*c_a**2))*(c_e/c_a - c_b*c_d/(4*c_a**2) + c_b**2*c_c/(16*c_a**3) - 3*c_b**4/(256*c_a**4))/6 + sqrt((-c_e/c_a + c_b*c_d/(4*c_a**2) - c_c**2/(12*c_a**2))**3/27 + (-(c_c/c_a - 3*c_b**2/(8*c_a**2))**3/108 + (c_c/c_a - 3*c_b**2/(8*c_a**2))*(c_e/c_a - c_b*c_d/(4*c_a**2) + c_b**2*c_c/(16*c_a**3) - 3*c_b**4/(256*c_a**4))/3 - (c_d/c_a - c_b*c_c/(2*c_a**2) + c_b**3/(8*c_a**3))**2/8)**2/4) + (c_d/c_a - c_b*c_c/(2*c_a**2) + c_b**3/(8*c_a**3))**2/16)**(1/3)) + 2*((c_c/c_a - 3*c_b**2/(8*c_a**2))**3/216 - (c_c/c_a - 3*c_b**2/(8*c_a**2))*(c_e/c_a - c_b*c_d/(4*c_a**2) + c_b**2*c_c/(16*c_a**3) - 3*c_b**4/(256*c_a**4))/6 + sqrt((-c_e/c_a + c_b*c_d/(4*c_a**2) - c_c**2/(12*c_a**2))**3/27 + (-(c_c/c_a - 3*c_b**2/(8*c_a**2))**3/108 + (c_c/c_a - 3*c_b**2/(8*c_a**2))*(c_e/c_a - c_b*c_d/(4*c_a**2) + c_b**2*c_c/(16*c_a**3) - 3*c_b**4/(256*c_a**4))/3 - (c_d/c_a - c_b*c_c/(2*c_a**2) + c_b**3/(8*c_a**3))**2/8)**2/4) + (c_d/c_a - c_b*c_c/(2*c_a**2) + c_b**3/(8*c_a**3))**2/16)**(1/3) - 2*c_c/(3*c_a) + c_b**2/(4*c_a**2))/2 - sqrt(-(2*c_d/c_a - c_b*c_c/c_a**2 + c_b**3/(4*c_a**3))/sqrt(-2*(-c_e/c_a + c_b*c_d/(4*c_a**2) - c_c**2/(12*c_a**2))/(3*((c_c/c_a - 3*c_b**2/(8*c_a**2))**3/216 - (c_c/c_a - 3*c_b**2/(8*c_a**2))*(c_e/c_a - c_b*c_d/(4*c_a**2) + c_b**2*c_c/(16*c_a**3) - 3*c_b**4/(256*c_a**4))/6 + sqrt((-c_e/c_a + c_b*c_d/(4*c_a**2) - c_c**2/(12*c_a**2))**3/27 + (-(c_c/c_a - 3*c_b**2/(8*c_a**2))**3/108 + (c_c/c_a - 3*c_b**2/(8*c_a**2))*(c_e/c_a - c_b*c_d/(4*c_a**2) + c_b**2*c_c/(16*c_a**3) - 3*c_b**4/(256*c_a**4))/3 - (c_d/c_a - c_b*c_c/(2*c_a**2) + c_b**3/(8*c_a**3))**2/8)**2/4) + (c_d/c_a - c_b*c_c/(2*c_a**2) + c_b**3/(8*c_a**3))**2/16)**(1/3)) + 2*((c_c/c_a - 3*c_b**2/(8*c_a**2))**3/216 - (c_c/c_a - 3*c_b**2/(8*c_a**2))*(c_e/c_a - c_b*c_d/(4*c_a**2) + c_b**2*c_c/(16*c_a**3) - 3*c_b**4/(256*c_a**4))/6 + sqrt((-c_e/c_a + c_b*c_d/(4*c_a**2) - c_c**2/(12*c_a**2))**3/27 + (-(c_c/c_a - 3*c_b**2/(8*c_a**2))**3/108 + (c_c/c_a - 3*c_b**2/(8*c_a**2))*(c_e/c_a - c_b*c_d/(4*c_a**2) + c_b**2*c_c/(16*c_a**3) - 3*c_b**4/(256*c_a**4))/3 - (c_d/c_a - c_b*c_c/(2*c_a**2) + c_b**3/(8*c_a**3))**2/8)**2/4) + (c_d/c_a - c_b*c_c/(2*c_a**2) + c_b**3/(8*c_a**3))**2/16)**(1/3) - 2*c_c/(3*c_a) + c_b**2/(4*c_a**2)) + 2*(-c_e/c_a + c_b*c_d/(4*c_a**2) - c_c**2/(12*c_a**2))/(3*((c_c/c_a - 3*c_b**2/(8*c_a**2))**3/216 - (c_c/c_a - 3*c_b**2/(8*c_a**2))*(c_e/c_a - c_b*c_d/(4*c_a**2) + c_b**2*c_c/(16*c_a**3) - 3*c_b**4/(256*c_a**4))/6 + sqrt((-c_e/c_a + c_b*c_d/(4*c_a**2) - c_c**2/(12*c_a**2))**3/27 + (-(c_c/c_a - 3*c_b**2/(8*c_a**2))**3/108 + (c_c/c_a - 3*c_b**2/(8*c_a**2))*(c_e/c_a - c_b*c_d/(4*c_a**2) + c_b**2*c_c/(16*c_a**3) - 3*c_b**4/(256*c_a**4))/3 - (c_d/c_a - c_b*c_c/(2*c_a**2) + c_b**3/(8*c_a**3))**2/8)**2/4) + (c_d/c_a - c_b*c_c/(2*c_a**2) + c_b**3/(8*c_a**3))**2/16)**(1/3)) - 2*((c_c/c_a - 3*c_b**2/(8*c_a**2))**3/216 - (c_c/c_a - 3*c_b**2/(8*c_a**2))*(c_e/c_a - c_b*c_d/(4*c_a**2) + c_b**2*c_c/(16*c_a**3) - 3*c_b**4/(256*c_a**4))/6 + sqrt((-c_e/c_a + c_b*c_d/(4*c_a**2) - c_c**2/(12*c_a**2))**3/27 + (-(c_c/c_a - 3*c_b**2/(8*c_a**2))**3/108 + (c_c/c_a - 3*c_b**2/(8*c_a**2))*(c_e/c_a - c_b*c_d/(4*c_a**2) + c_b**2*c_c/(16*c_a**3) - 3*c_b**4/(256*c_a**4))/3 - (c_d/c_a - c_b*c_c/(2*c_a**2) + c_b**3/(8*c_a**3))**2/8)**2/4) + (c_d/c_a - c_b*c_c/(2*c_a**2) + c_b**3/(8*c_a**3))**2/16)**(1/3) - 4*c_c/(3*c_a) + c_b**2/(2*c_a**2))/2 - c_b/(4*c_a), True)),\n",
       " Piecewise((sqrt(-2*(-(c_c/c_a - 3*c_b**2/(8*c_a**2))**3/108 + (c_c/c_a - 3*c_b**2/(8*c_a**2))*(c_e/c_a - c_b*c_d/(4*c_a**2) + c_b**2*c_c/(16*c_a**3) - 3*c_b**4/(256*c_a**4))/3 - (c_d/c_a - c_b*c_c/(2*c_a**2) + c_b**3/(8*c_a**3))**2/8)**(1/3) - 2*c_c/(3*c_a) + c_b**2/(4*c_a**2))/2 + sqrt(-(2*c_d/c_a - c_b*c_c/c_a**2 + c_b**3/(4*c_a**3))/sqrt(-2*(-(c_c/c_a - 3*c_b**2/(8*c_a**2))**3/108 + (c_c/c_a - 3*c_b**2/(8*c_a**2))*(c_e/c_a - c_b*c_d/(4*c_a**2) + c_b**2*c_c/(16*c_a**3) - 3*c_b**4/(256*c_a**4))/3 - (c_d/c_a - c_b*c_c/(2*c_a**2) + c_b**3/(8*c_a**3))**2/8)**(1/3) - 2*c_c/(3*c_a) + c_b**2/(4*c_a**2)) + 2*(-(c_c/c_a - 3*c_b**2/(8*c_a**2))**3/108 + (c_c/c_a - 3*c_b**2/(8*c_a**2))*(c_e/c_a - c_b*c_d/(4*c_a**2) + c_b**2*c_c/(16*c_a**3) - 3*c_b**4/(256*c_a**4))/3 - (c_d/c_a - c_b*c_c/(2*c_a**2) + c_b**3/(8*c_a**3))**2/8)**(1/3) - 4*c_c/(3*c_a) + c_b**2/(2*c_a**2))/2 - c_b/(4*c_a), Eq(c_e/c_a - c_b*c_d/(4*c_a**2) + c_c**2/(12*c_a**2), 0)), (sqrt(-2*(-c_e/c_a + c_b*c_d/(4*c_a**2) - c_c**2/(12*c_a**2))/(3*((c_c/c_a - 3*c_b**2/(8*c_a**2))**3/216 - (c_c/c_a - 3*c_b**2/(8*c_a**2))*(c_e/c_a - c_b*c_d/(4*c_a**2) + c_b**2*c_c/(16*c_a**3) - 3*c_b**4/(256*c_a**4))/6 + sqrt((-c_e/c_a + c_b*c_d/(4*c_a**2) - c_c**2/(12*c_a**2))**3/27 + (-(c_c/c_a - 3*c_b**2/(8*c_a**2))**3/108 + (c_c/c_a - 3*c_b**2/(8*c_a**2))*(c_e/c_a - c_b*c_d/(4*c_a**2) + c_b**2*c_c/(16*c_a**3) - 3*c_b**4/(256*c_a**4))/3 - (c_d/c_a - c_b*c_c/(2*c_a**2) + c_b**3/(8*c_a**3))**2/8)**2/4) + (c_d/c_a - c_b*c_c/(2*c_a**2) + c_b**3/(8*c_a**3))**2/16)**(1/3)) + 2*((c_c/c_a - 3*c_b**2/(8*c_a**2))**3/216 - (c_c/c_a - 3*c_b**2/(8*c_a**2))*(c_e/c_a - c_b*c_d/(4*c_a**2) + c_b**2*c_c/(16*c_a**3) - 3*c_b**4/(256*c_a**4))/6 + sqrt((-c_e/c_a + c_b*c_d/(4*c_a**2) - c_c**2/(12*c_a**2))**3/27 + (-(c_c/c_a - 3*c_b**2/(8*c_a**2))**3/108 + (c_c/c_a - 3*c_b**2/(8*c_a**2))*(c_e/c_a - c_b*c_d/(4*c_a**2) + c_b**2*c_c/(16*c_a**3) - 3*c_b**4/(256*c_a**4))/3 - (c_d/c_a - c_b*c_c/(2*c_a**2) + c_b**3/(8*c_a**3))**2/8)**2/4) + (c_d/c_a - c_b*c_c/(2*c_a**2) + c_b**3/(8*c_a**3))**2/16)**(1/3) - 2*c_c/(3*c_a) + c_b**2/(4*c_a**2))/2 + sqrt(-(2*c_d/c_a - c_b*c_c/c_a**2 + c_b**3/(4*c_a**3))/sqrt(-2*(-c_e/c_a + c_b*c_d/(4*c_a**2) - c_c**2/(12*c_a**2))/(3*((c_c/c_a - 3*c_b**2/(8*c_a**2))**3/216 - (c_c/c_a - 3*c_b**2/(8*c_a**2))*(c_e/c_a - c_b*c_d/(4*c_a**2) + c_b**2*c_c/(16*c_a**3) - 3*c_b**4/(256*c_a**4))/6 + sqrt((-c_e/c_a + c_b*c_d/(4*c_a**2) - c_c**2/(12*c_a**2))**3/27 + (-(c_c/c_a - 3*c_b**2/(8*c_a**2))**3/108 + (c_c/c_a - 3*c_b**2/(8*c_a**2))*(c_e/c_a - c_b*c_d/(4*c_a**2) + c_b**2*c_c/(16*c_a**3) - 3*c_b**4/(256*c_a**4))/3 - (c_d/c_a - c_b*c_c/(2*c_a**2) + c_b**3/(8*c_a**3))**2/8)**2/4) + (c_d/c_a - c_b*c_c/(2*c_a**2) + c_b**3/(8*c_a**3))**2/16)**(1/3)) + 2*((c_c/c_a - 3*c_b**2/(8*c_a**2))**3/216 - (c_c/c_a - 3*c_b**2/(8*c_a**2))*(c_e/c_a - c_b*c_d/(4*c_a**2) + c_b**2*c_c/(16*c_a**3) - 3*c_b**4/(256*c_a**4))/6 + sqrt((-c_e/c_a + c_b*c_d/(4*c_a**2) - c_c**2/(12*c_a**2))**3/27 + (-(c_c/c_a - 3*c_b**2/(8*c_a**2))**3/108 + (c_c/c_a - 3*c_b**2/(8*c_a**2))*(c_e/c_a - c_b*c_d/(4*c_a**2) + c_b**2*c_c/(16*c_a**3) - 3*c_b**4/(256*c_a**4))/3 - (c_d/c_a - c_b*c_c/(2*c_a**2) + c_b**3/(8*c_a**3))**2/8)**2/4) + (c_d/c_a - c_b*c_c/(2*c_a**2) + c_b**3/(8*c_a**3))**2/16)**(1/3) - 2*c_c/(3*c_a) + c_b**2/(4*c_a**2)) + 2*(-c_e/c_a + c_b*c_d/(4*c_a**2) - c_c**2/(12*c_a**2))/(3*((c_c/c_a - 3*c_b**2/(8*c_a**2))**3/216 - (c_c/c_a - 3*c_b**2/(8*c_a**2))*(c_e/c_a - c_b*c_d/(4*c_a**2) + c_b**2*c_c/(16*c_a**3) - 3*c_b**4/(256*c_a**4))/6 + sqrt((-c_e/c_a + c_b*c_d/(4*c_a**2) - c_c**2/(12*c_a**2))**3/27 + (-(c_c/c_a - 3*c_b**2/(8*c_a**2))**3/108 + (c_c/c_a - 3*c_b**2/(8*c_a**2))*(c_e/c_a - c_b*c_d/(4*c_a**2) + c_b**2*c_c/(16*c_a**3) - 3*c_b**4/(256*c_a**4))/3 - (c_d/c_a - c_b*c_c/(2*c_a**2) + c_b**3/(8*c_a**3))**2/8)**2/4) + (c_d/c_a - c_b*c_c/(2*c_a**2) + c_b**3/(8*c_a**3))**2/16)**(1/3)) - 2*((c_c/c_a - 3*c_b**2/(8*c_a**2))**3/216 - (c_c/c_a - 3*c_b**2/(8*c_a**2))*(c_e/c_a - c_b*c_d/(4*c_a**2) + c_b**2*c_c/(16*c_a**3) - 3*c_b**4/(256*c_a**4))/6 + sqrt((-c_e/c_a + c_b*c_d/(4*c_a**2) - c_c**2/(12*c_a**2))**3/27 + (-(c_c/c_a - 3*c_b**2/(8*c_a**2))**3/108 + (c_c/c_a - 3*c_b**2/(8*c_a**2))*(c_e/c_a - c_b*c_d/(4*c_a**2) + c_b**2*c_c/(16*c_a**3) - 3*c_b**4/(256*c_a**4))/3 - (c_d/c_a - c_b*c_c/(2*c_a**2) + c_b**3/(8*c_a**3))**2/8)**2/4) + (c_d/c_a - c_b*c_c/(2*c_a**2) + c_b**3/(8*c_a**3))**2/16)**(1/3) - 4*c_c/(3*c_a) + c_b**2/(2*c_a**2))/2 - c_b/(4*c_a), True))]"
      ]
     },
     "metadata": {},
     "output_type": "display_data"
    },
    {
     "name": "stdout",
     "output_type": "stream",
     "text": [
      "# opcount: 214\n",
      "var _0:float = (F*F) - ((a_b.x*a_b.x) + (a_b.y*a_b.y))\n",
      "var _1:float = (1.0/(_0*_0))\n",
      "var _2:float = 4.0*a_b.x\n",
      "var _3:float = 4.0*a_b.y\n",
      "var _4:float = _2*v_a.x + _3*v_a.y - (_2*v_b.x + _3*v_b.y)\n",
      "var _5:float = (_4*_4)\n",
      "var _6:float = _1*_5\n",
      "var _7:float = 1.0/_0\n",
      "var _8:float = 4.0*(a_b.x*p_a.x + a_b.y*p_a.y) + 8.0*(v_a.x*v_b.x + v_a.y*v_b.y) - (_2*p_b.x + _3*p_b.y + 4.0*(v_a.x*v_a.x) + 4.0*(v_a.y*v_a.y) + 4.0*(v_b.x*v_b.x) + 4.0*(v_b.y*v_b.y))\n",
      "var _9:float = _7*_8\n",
      "var _10:float = -0.375*_6 + _9\n",
      "var _11:float = (_10*_10*_10)\n",
      "var _12:float = (1.0/(_0*_0*_0))\n",
      "var _13:float = _12*(_4*_4*_4)\n",
      "var _14:float = 8.0*(-p_a.x*v_a.x + p_a.x*v_b.x - p_a.y*v_a.y + p_a.y*v_b.y + p_b.x*v_a.x - p_b.x*v_b.x + p_b.y*v_a.y - p_b.y*v_b.y)\n",
      "var _15:float = _14*_7\n",
      "var _16:float = _1*_4\n",
      "var _17:float = _16*_8\n",
      "var _18:float = pow((0.125)*_13 + _15 - 0.5*_17, 2.0)\n",
      "var _19:float = -0.25*(_14*_16 + 16.0*_7*((p_a.x*p_a.x) - 2.0*p_a.x*p_b.x + (p_a.y*p_a.y) - 2.0*p_a.y*p_b.y + (p_b.x*p_b.x) + (p_b.y*p_b.y)))\n",
      "var _20:float = (0.0625)*_12*_5*_8 + _19 - 0.01171875*pow(_4, 4.0)/pow(_0, 4.0)\n",
      "var _21:float = (0.3333333333333333)*_10*_20 - 0.009259259259259259*_11 - 0.125*_18\n",
      "var _22:float = 2.0*cbrt(_21)\n",
      "var _23:float = (0.25)*_13 + 2.0*_15 - _17\n",
      "var _24:float = -0.25*_1*_5 + (0.6666666666666666)*_9\n",
      "var _25:float = sqrt(-_22 - _24)\n",
      "var _26:float = _23/_25\n",
      "var _27:float = (1.3333333333333333)*_9\n",
      "var _28:float = -_27 + (0.5)*_6\n",
      "var _29:float = (0.5)*sqrt(_22 + _26 + _28)\n",
      "var _30:float = (0.5)*_25\n",
      "var _31:float = (0.25)*_4*_7\n",
      "var _32:float = _30 + _31\n",
      "var _33:float = (0.08333333333333333)*_1*(_8*_8) + _19\n",
      "var _34:float = _33 == 0.0\n",
      "var _35:float = -_33\n",
      "var _36:float = cbrt(-0.16666666666666666*_10*_20 + (0.004629629629629629)*_11 + (0.0625)*_18 + sqrt((0.25)*(_21*_21) + (0.037037037037037035)*(_35*_35*_35)))\n",
      "var _37:float = 2.0*_36\n",
      "var _38:float = (0.6666666666666666)*_35/_36\n",
      "var _39:float = -_37 + _38\n",
      "var _40:float = sqrt(-_24 - _39)\n",
      "var _41:float = _23/_40\n",
      "var _42:float = (0.5)*sqrt(_28 + _39 + _41)\n",
      "var _43:float = (0.5)*_40\n",
      "var _44:float = _31 + _43\n",
      "var _45:float = -0.5*_1*_5 + _27\n",
      "var _46:float = (0.5)*sqrt(_22 - _26 - _45)\n",
      "var _47:float = (0.5)*sqrt(-_37 + _38 - _41 - _45)\n",
      "var _48:float = -_31\n",
      "-_29 - _32 if _34 else -_42 - _44\n",
      "_29 - _32 if _34 else _42 - _44\n",
      "_30 - _31 - _46 if _34 else -_31 + _43 - _47\n",
      "_30 + _46 + _48 if _34 else _43 + _47 + _48\n",
      "\n"
     ]
    }
   ],
   "source": [
    "# quadratic-quadratic intercept\n",
    "\n",
    "q_pix = Eq(aax*(T**2)/2 + vax*T + pax, abx*(T**2)/2 + vbx*T + pbx)\n",
    "q_piy = Eq(aay*(T**2)/2 + vay*T + pay, aby*(T**2)/2 + vby*T + pby)\n",
    "display(q_pix, q_piy)\n",
    "\n",
    "q_f = Eq(F**2, aax**2 + aay**2)\n",
    "display(q_f)\n",
    "\n",
    "q_aax = Eq(aax,solve(q_pix, aax)[0])\n",
    "q_aay = Eq(aay,solve(q_piy, aay)[0])\n",
    "display(q_aax, q_aay)\n",
    "\n",
    "q_f2 = q_f.subs({aax:q_aax.rhs, aay:q_aay.rhs})\n",
    "q_f2 = Eq(q_f2.lhs * T**4, q_f2.rhs * T**4)\n",
    "q_f2 = simplify(q_f2)\n",
    "q_f2 = q_f2.lhs - q_f2.rhs\n",
    "display(q_f2)\n",
    "\n",
    "q_f2 = collect(expand(q_f2),T)\n",
    "display(q_f2)\n",
    "q_f2_terms = collect(expand(q_f2),T, evaluate=False)\n",
    "ca, cb, cc, cd, ce = symbols('c_a c_b c_c c_d c_e', real=True)\n",
    "q_ca = Eq(ca, q_f2_terms[T**4])\n",
    "q_cb = Eq(cb, q_f2_terms[T**3])\n",
    "q_cc = Eq(cc, q_f2_terms[T**2])\n",
    "q_cd = Eq(cd, q_f2_terms[T**1])\n",
    "q_ce = Eq(ce, q_f2_terms[1])\n",
    "display(q_ca, q_cb, q_cc, q_cd, q_ce)\n",
    "q_f2 = q_f2.subs({q_ca.rhs:q_ca.lhs, q_cb.rhs:q_cb.lhs, q_cc.rhs:q_cc.lhs, q_cd.rhs:q_cd.lhs, q_ce.rhs:q_ce.lhs})\n",
    "display(q_f2)\n",
    "\n",
    "q_t = solve(q_f2, T)\n",
    "display(q_t)\n",
    "\n",
    "sols = [q.subs({q_ca.lhs:q_ca.rhs, q_cb.lhs:q_cb.rhs, q_cc.lhs:q_cc.rhs, q_cd.lhs:q_cd.rhs, q_ce.lhs:q_ce.rhs}) for q in q_t]\n",
    "print(make_code(sols))"
   ]
  },
  {
   "cell_type": "code",
   "execution_count": null,
   "metadata": {},
   "outputs": [],
   "source": []
  }
 ],
 "metadata": {
  "kernelspec": {
   "display_name": "Python 3",
   "language": "python",
   "name": "python3"
  },
  "language_info": {
   "codemirror_mode": {
    "name": "ipython",
    "version": 3
   },
   "file_extension": ".py",
   "mimetype": "text/x-python",
   "name": "python",
   "nbconvert_exporter": "python",
   "pygments_lexer": "ipython3",
   "version": "3.12.3"
  }
 },
 "nbformat": 4,
 "nbformat_minor": 4
}
